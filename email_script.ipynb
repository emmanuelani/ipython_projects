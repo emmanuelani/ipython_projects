{
 "cells": [
  {
   "cell_type": "code",
   "execution_count": 5,
   "metadata": {},
   "outputs": [
    {
     "name": "stdout",
     "output_type": "stream",
     "text": [
      "From: emmanuelani234@gmail.com\n",
      "To: emmanuelani234@outlook.com\n",
      "Subject: Sending emails with Python\n",
      "Content-Type: text/plain; charset=\"utf-8\"\n",
      "Content-Transfer-Encoding: quoted-printable\n",
      "MIME-Version: 1.0\n",
      "\n",
      " Hello Emmanuel, This is the main body of email message. It is separate from =\n",
      "email headers and it doesn't play a role in routing the email message.\n",
      "\n",
      "emma.jpg\n"
     ]
    },
    {
     "ename": "ConnectionRefusedError",
     "evalue": "[WinError 10061] No connection could be made because the target machine actively refused it",
     "output_type": "error",
     "traceback": [
      "\u001b[1;31m---------------------------------------------------------------------------\u001b[0m",
      "\u001b[1;31mConnectionRefusedError\u001b[0m                    Traceback (most recent call last)",
      "\u001b[1;32mc:\\Users\\Latitude E7270\\Documents\\Codes\\Personal files\\Ipython files\\email_script.ipynb Cell 1\u001b[0m in \u001b[0;36m<cell line: 44>\u001b[1;34m()\u001b[0m\n\u001b[0;32m     <a href='vscode-notebook-cell:/c%3A/Users/Latitude%20E7270/Documents/Codes/Personal%20files/Ipython%20files/email_script.ipynb#W0sZmlsZQ%3D%3D?line=35'>36</a>\u001b[0m     message\u001b[39m.\u001b[39madd_attachment(\n\u001b[0;32m     <a href='vscode-notebook-cell:/c%3A/Users/Latitude%20E7270/Documents/Codes/Personal%20files/Ipython%20files/email_script.ipynb#W0sZmlsZQ%3D%3D?line=36'>37</a>\u001b[0m         file\u001b[39m.\u001b[39mread(),\n\u001b[0;32m     <a href='vscode-notebook-cell:/c%3A/Users/Latitude%20E7270/Documents/Codes/Personal%20files/Ipython%20files/email_script.ipynb#W0sZmlsZQ%3D%3D?line=37'>38</a>\u001b[0m         maintype \u001b[39m=\u001b[39m mime_type,\n\u001b[0;32m     <a href='vscode-notebook-cell:/c%3A/Users/Latitude%20E7270/Documents/Codes/Personal%20files/Ipython%20files/email_script.ipynb#W0sZmlsZQ%3D%3D?line=38'>39</a>\u001b[0m         subtype \u001b[39m=\u001b[39m mime_subtype,\n\u001b[0;32m     <a href='vscode-notebook-cell:/c%3A/Users/Latitude%20E7270/Documents/Codes/Personal%20files/Ipython%20files/email_script.ipynb#W0sZmlsZQ%3D%3D?line=39'>40</a>\u001b[0m         filename \u001b[39m=\u001b[39m filename\n\u001b[0;32m     <a href='vscode-notebook-cell:/c%3A/Users/Latitude%20E7270/Documents/Codes/Personal%20files/Ipython%20files/email_script.ipynb#W0sZmlsZQ%3D%3D?line=40'>41</a>\u001b[0m     )\n\u001b[0;32m     <a href='vscode-notebook-cell:/c%3A/Users/Latitude%20E7270/Documents/Codes/Personal%20files/Ipython%20files/email_script.ipynb#W0sZmlsZQ%3D%3D?line=42'>43</a>\u001b[0m \u001b[39m# create a secure email server \u001b[39;00m\n\u001b[1;32m---> <a href='vscode-notebook-cell:/c%3A/Users/Latitude%20E7270/Documents/Codes/Personal%20files/Ipython%20files/email_script.ipynb#W0sZmlsZQ%3D%3D?line=43'>44</a>\u001b[0m mail_server \u001b[39m=\u001b[39m smtplib\u001b[39m.\u001b[39;49mSMTP_SSL(\u001b[39m'\u001b[39;49m\u001b[39mlocalhost\u001b[39;49m\u001b[39m'\u001b[39;49m)\n\u001b[0;32m     <a href='vscode-notebook-cell:/c%3A/Users/Latitude%20E7270/Documents/Codes/Personal%20files/Ipython%20files/email_script.ipynb#W0sZmlsZQ%3D%3D?line=45'>46</a>\u001b[0m mail_server\u001b[39m.\u001b[39mset_debuglevel(\u001b[39m1\u001b[39m)\n\u001b[0;32m     <a href='vscode-notebook-cell:/c%3A/Users/Latitude%20E7270/Documents/Codes/Personal%20files/Ipython%20files/email_script.ipynb#W0sZmlsZQ%3D%3D?line=47'>48</a>\u001b[0m mail_password \u001b[39m=\u001b[39m getpass(\u001b[39m'\u001b[39m\u001b[39mPassword: \u001b[39m\u001b[39m'\u001b[39m)\n",
      "File \u001b[1;32mc:\\Users\\Latitude E7270\\AppData\\Local\\Programs\\Python\\Python310\\lib\\smtplib.py:1050\u001b[0m, in \u001b[0;36mSMTP_SSL.__init__\u001b[1;34m(self, host, port, local_hostname, keyfile, certfile, timeout, source_address, context)\u001b[0m\n\u001b[0;32m   1047\u001b[0m     context \u001b[39m=\u001b[39m ssl\u001b[39m.\u001b[39m_create_stdlib_context(certfile\u001b[39m=\u001b[39mcertfile,\n\u001b[0;32m   1048\u001b[0m                                          keyfile\u001b[39m=\u001b[39mkeyfile)\n\u001b[0;32m   1049\u001b[0m \u001b[39mself\u001b[39m\u001b[39m.\u001b[39mcontext \u001b[39m=\u001b[39m context\n\u001b[1;32m-> 1050\u001b[0m SMTP\u001b[39m.\u001b[39;49m\u001b[39m__init__\u001b[39;49m(\u001b[39mself\u001b[39;49m, host, port, local_hostname, timeout,\n\u001b[0;32m   1051\u001b[0m               source_address)\n",
      "File \u001b[1;32mc:\\Users\\Latitude E7270\\AppData\\Local\\Programs\\Python\\Python310\\lib\\smtplib.py:255\u001b[0m, in \u001b[0;36mSMTP.__init__\u001b[1;34m(self, host, port, local_hostname, timeout, source_address)\u001b[0m\n\u001b[0;32m    252\u001b[0m \u001b[39mself\u001b[39m\u001b[39m.\u001b[39m_auth_challenge_count \u001b[39m=\u001b[39m \u001b[39m0\u001b[39m\n\u001b[0;32m    254\u001b[0m \u001b[39mif\u001b[39;00m host:\n\u001b[1;32m--> 255\u001b[0m     (code, msg) \u001b[39m=\u001b[39m \u001b[39mself\u001b[39;49m\u001b[39m.\u001b[39;49mconnect(host, port)\n\u001b[0;32m    256\u001b[0m     \u001b[39mif\u001b[39;00m code \u001b[39m!=\u001b[39m \u001b[39m220\u001b[39m:\n\u001b[0;32m    257\u001b[0m         \u001b[39mself\u001b[39m\u001b[39m.\u001b[39mclose()\n",
      "File \u001b[1;32mc:\\Users\\Latitude E7270\\AppData\\Local\\Programs\\Python\\Python310\\lib\\smtplib.py:341\u001b[0m, in \u001b[0;36mSMTP.connect\u001b[1;34m(self, host, port, source_address)\u001b[0m\n\u001b[0;32m    339\u001b[0m     port \u001b[39m=\u001b[39m \u001b[39mself\u001b[39m\u001b[39m.\u001b[39mdefault_port\n\u001b[0;32m    340\u001b[0m sys\u001b[39m.\u001b[39maudit(\u001b[39m\"\u001b[39m\u001b[39msmtplib.connect\u001b[39m\u001b[39m\"\u001b[39m, \u001b[39mself\u001b[39m, host, port)\n\u001b[1;32m--> 341\u001b[0m \u001b[39mself\u001b[39m\u001b[39m.\u001b[39msock \u001b[39m=\u001b[39m \u001b[39mself\u001b[39;49m\u001b[39m.\u001b[39;49m_get_socket(host, port, \u001b[39mself\u001b[39;49m\u001b[39m.\u001b[39;49mtimeout)\n\u001b[0;32m    342\u001b[0m \u001b[39mself\u001b[39m\u001b[39m.\u001b[39mfile \u001b[39m=\u001b[39m \u001b[39mNone\u001b[39;00m\n\u001b[0;32m    343\u001b[0m (code, msg) \u001b[39m=\u001b[39m \u001b[39mself\u001b[39m\u001b[39m.\u001b[39mgetreply()\n",
      "File \u001b[1;32mc:\\Users\\Latitude E7270\\AppData\\Local\\Programs\\Python\\Python310\\lib\\smtplib.py:1056\u001b[0m, in \u001b[0;36mSMTP_SSL._get_socket\u001b[1;34m(self, host, port, timeout)\u001b[0m\n\u001b[0;32m   1054\u001b[0m \u001b[39mif\u001b[39;00m \u001b[39mself\u001b[39m\u001b[39m.\u001b[39mdebuglevel \u001b[39m>\u001b[39m \u001b[39m0\u001b[39m:\n\u001b[0;32m   1055\u001b[0m     \u001b[39mself\u001b[39m\u001b[39m.\u001b[39m_print_debug(\u001b[39m'\u001b[39m\u001b[39mconnect:\u001b[39m\u001b[39m'\u001b[39m, (host, port))\n\u001b[1;32m-> 1056\u001b[0m new_socket \u001b[39m=\u001b[39m \u001b[39msuper\u001b[39;49m()\u001b[39m.\u001b[39;49m_get_socket(host, port, timeout)\n\u001b[0;32m   1057\u001b[0m new_socket \u001b[39m=\u001b[39m \u001b[39mself\u001b[39m\u001b[39m.\u001b[39mcontext\u001b[39m.\u001b[39mwrap_socket(new_socket,\n\u001b[0;32m   1058\u001b[0m                                       server_hostname\u001b[39m=\u001b[39m\u001b[39mself\u001b[39m\u001b[39m.\u001b[39m_host)\n\u001b[0;32m   1059\u001b[0m \u001b[39mreturn\u001b[39;00m new_socket\n",
      "File \u001b[1;32mc:\\Users\\Latitude E7270\\AppData\\Local\\Programs\\Python\\Python310\\lib\\smtplib.py:312\u001b[0m, in \u001b[0;36mSMTP._get_socket\u001b[1;34m(self, host, port, timeout)\u001b[0m\n\u001b[0;32m    310\u001b[0m \u001b[39mif\u001b[39;00m \u001b[39mself\u001b[39m\u001b[39m.\u001b[39mdebuglevel \u001b[39m>\u001b[39m \u001b[39m0\u001b[39m:\n\u001b[0;32m    311\u001b[0m     \u001b[39mself\u001b[39m\u001b[39m.\u001b[39m_print_debug(\u001b[39m'\u001b[39m\u001b[39mconnect: to\u001b[39m\u001b[39m'\u001b[39m, (host, port), \u001b[39mself\u001b[39m\u001b[39m.\u001b[39msource_address)\n\u001b[1;32m--> 312\u001b[0m \u001b[39mreturn\u001b[39;00m socket\u001b[39m.\u001b[39;49mcreate_connection((host, port), timeout,\n\u001b[0;32m    313\u001b[0m                                 \u001b[39mself\u001b[39;49m\u001b[39m.\u001b[39;49msource_address)\n",
      "File \u001b[1;32mc:\\Users\\Latitude E7270\\AppData\\Local\\Programs\\Python\\Python310\\lib\\socket.py:845\u001b[0m, in \u001b[0;36mcreate_connection\u001b[1;34m(address, timeout, source_address)\u001b[0m\n\u001b[0;32m    843\u001b[0m \u001b[39mif\u001b[39;00m err \u001b[39mis\u001b[39;00m \u001b[39mnot\u001b[39;00m \u001b[39mNone\u001b[39;00m:\n\u001b[0;32m    844\u001b[0m     \u001b[39mtry\u001b[39;00m:\n\u001b[1;32m--> 845\u001b[0m         \u001b[39mraise\u001b[39;00m err\n\u001b[0;32m    846\u001b[0m     \u001b[39mfinally\u001b[39;00m:\n\u001b[0;32m    847\u001b[0m         \u001b[39m# Break explicitly a reference cycle\u001b[39;00m\n\u001b[0;32m    848\u001b[0m         err \u001b[39m=\u001b[39m \u001b[39mNone\u001b[39;00m\n",
      "File \u001b[1;32mc:\\Users\\Latitude E7270\\AppData\\Local\\Programs\\Python\\Python310\\lib\\socket.py:833\u001b[0m, in \u001b[0;36mcreate_connection\u001b[1;34m(address, timeout, source_address)\u001b[0m\n\u001b[0;32m    831\u001b[0m \u001b[39mif\u001b[39;00m source_address:\n\u001b[0;32m    832\u001b[0m     sock\u001b[39m.\u001b[39mbind(source_address)\n\u001b[1;32m--> 833\u001b[0m sock\u001b[39m.\u001b[39;49mconnect(sa)\n\u001b[0;32m    834\u001b[0m \u001b[39m# Break explicitly a reference cycle\u001b[39;00m\n\u001b[0;32m    835\u001b[0m err \u001b[39m=\u001b[39m \u001b[39mNone\u001b[39;00m\n",
      "\u001b[1;31mConnectionRefusedError\u001b[0m: [WinError 10061] No connection could be made because the target machine actively refused it"
     ]
    }
   ],
   "source": [
    "from email.message import EmailMessage\n",
    "from os import path\n",
    "import mimetypes\n",
    "import smtplib\n",
    "from getpass import getpass \n",
    "\n",
    "# initialize an EmailMessage object\n",
    "message = EmailMessage()\n",
    "\n",
    "sender = 'emmanuelani234@gmail.com'\n",
    "receiver = 'emmanuelani234@outlook.com'\n",
    "\n",
    "# create email header fields\n",
    "message['From'] = sender\n",
    "message['To'] = receiver\n",
    "message['Subject'] = 'Sending emails with Python'\n",
    "\n",
    "\n",
    "# construct the email body\n",
    "body = \" Hello Emmanuel, This is the main body of email message. It is separate from email headers and it doesn't play a role in routing the email message.\"\n",
    "\n",
    "message.set_content(body)\n",
    "\n",
    "print(message)\n",
    "\n",
    "filename = path.basename('emma.jpg')\n",
    "print(filename)\n",
    "\n",
    "# getting the attachment mimetype\n",
    "mime_type, _ = mimetypes.guess_type(filename)\n",
    "mime_type, mime_subtype = mime_type.split('/')\n",
    "# print(mime_type)\n",
    "\n",
    "# add attachment to message\n",
    "with open('emma.jpg', 'rb') as file:\n",
    "    message.add_attachment(\n",
    "        file.read(),\n",
    "        maintype = mime_type,\n",
    "        subtype = mime_subtype,\n",
    "        filename = filename\n",
    "    )\n",
    "\n",
    "# create a secure email server \n",
    "mail_server = smtplib.SMTP_SSL('localhost')\n",
    "\n",
    "mail_server.set_debuglevel(1)\n",
    "\n",
    "mail_password = getpass('Password: ')\n",
    "\n",
    "# authenticate the email server\n",
    "mail_server.login(sender, mail_password)\n",
    "\n",
    "# send the message\n",
    "try:\n",
    "    mail_server.send_message(message)\n",
    "except SMTPAuthenticationError:\n",
    "    print('Failed to authenticate. Try again')\n",
    "\n",
    "\n",
    "\n"
   ]
  }
 ],
 "metadata": {
  "kernelspec": {
   "display_name": "Python 3.10.5 64-bit",
   "language": "python",
   "name": "python3"
  },
  "language_info": {
   "codemirror_mode": {
    "name": "ipython",
    "version": 3
   },
   "file_extension": ".py",
   "mimetype": "text/x-python",
   "name": "python",
   "nbconvert_exporter": "python",
   "pygments_lexer": "ipython3",
   "version": "3.10.5"
  },
  "orig_nbformat": 4,
  "vscode": {
   "interpreter": {
    "hash": "8eede22598bfb2ec59ca93270f7144183cecbe045428b25fd92150a347eec21f"
   }
  }
 },
 "nbformat": 4,
 "nbformat_minor": 2
}
