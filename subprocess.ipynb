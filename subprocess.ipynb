{
 "cells": [
  {
   "cell_type": "code",
   "execution_count": 11,
   "metadata": {},
   "outputs": [
    {
     "name": "stdout",
     "output_type": "stream",
     "text": [
      " Volume in drive C has no label.\n",
      " Volume Serial Number is E66E-31FD\n",
      "\n",
      " Directory of c:\\Users\\Latitude E7270\\Documents\\Vscode files\\Ipython files\n",
      "\n",
      "05/05/2022  23:41    <DIR>          .\n",
      "05/05/2022  23:28    <DIR>          ..\n",
      "05/02/2022  22:40            32,023 adv_python.ipynb\n",
      "05/05/2022  22:19            28,169 final_assignment.ipynb\n",
      "05/05/2022  07:39           138,631 stock_data.ipynb\n",
      "05/05/2022  23:43             1,849 subprocess.ipynb\n",
      "05/02/2022  01:52           174,008 titanic.ipynb\n",
      "               5 File(s)        374,680 bytes\n",
      "               2 Dir(s)  17,368,186,880 bytes free\n",
      "\n",
      "\n"
     ]
    },
    {
     "data": {
      "text/plain": [
       "0"
      ]
     },
     "execution_count": 11,
     "metadata": {},
     "output_type": "execute_result"
    }
   ],
   "source": [
    "import subprocess as sp\n",
    "\n",
    "# help(subprocess)\n",
    "\n",
    "a = sp.run(\"dir\", shell=True, capture_output=True)\n",
    "\n",
    "print(a.stdout.decode())\n",
    "print(a.stderr.decode())\n",
    "a.returncode\n",
    "\n"
   ]
  }
 ],
 "metadata": {
  "interpreter": {
   "hash": "886d6ad25d77afbadc6bb9d97f85f55ceeef83a723000dfa0388dd4adc350846"
  },
  "kernelspec": {
   "display_name": "Python 3.9.2 64-bit",
   "language": "python",
   "name": "python3"
  },
  "language_info": {
   "codemirror_mode": {
    "name": "ipython",
    "version": 3
   },
   "file_extension": ".py",
   "mimetype": "text/x-python",
   "name": "python",
   "nbconvert_exporter": "python",
   "pygments_lexer": "ipython3",
   "version": "3.9.2"
  },
  "orig_nbformat": 4
 },
 "nbformat": 4,
 "nbformat_minor": 2
}
