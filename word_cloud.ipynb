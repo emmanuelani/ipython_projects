{
 "cells": [
  {
   "cell_type": "code",
   "execution_count": 4,
   "metadata": {},
   "outputs": [
    {
     "ename": "ImportError",
     "evalue": "cannot import name '_CopyMode' from 'numpy._globals' (c:\\Users\\Latitude E7270\\AppData\\Local\\Programs\\Python\\Python310\\lib\\site-packages\\numpy\\_globals.py)",
     "output_type": "error",
     "traceback": [
      "\u001b[1;31m---------------------------------------------------------------------------\u001b[0m",
      "\u001b[1;31mImportError\u001b[0m                               Traceback (most recent call last)",
      "\u001b[1;32mc:\\Users\\Latitude E7270\\Documents\\code_files\\Vscode files\\Ipython files\\word_cloud.ipynb Cell 1'\u001b[0m in \u001b[0;36m<cell line: 1>\u001b[1;34m()\u001b[0m\n\u001b[1;32m----> <a href='vscode-notebook-cell:/c%3A/Users/Latitude%20E7270/Documents/code_files/Vscode%20files/Ipython%20files/word_cloud.ipynb#ch0000000?line=0'>1</a>\u001b[0m \u001b[39mimport\u001b[39;00m \u001b[39mwordcloud\u001b[39;00m\n",
      "File \u001b[1;32mc:\\Users\\Latitude E7270\\AppData\\Local\\Programs\\Python\\Python310\\lib\\site-packages\\wordcloud\\__init__.py:1\u001b[0m, in \u001b[0;36m<module>\u001b[1;34m\u001b[0m\n\u001b[1;32m----> <a href='file:///c%3A/Users/Latitude%20E7270/AppData/Local/Programs/Python/Python310/lib/site-packages/wordcloud/__init__.py?line=0'>1</a>\u001b[0m \u001b[39mfrom\u001b[39;00m \u001b[39m.\u001b[39;00m\u001b[39mwordcloud\u001b[39;00m \u001b[39mimport\u001b[39;00m (WordCloud, STOPWORDS, random_color_func,\n\u001b[0;32m      <a href='file:///c%3A/Users/Latitude%20E7270/AppData/Local/Programs/Python/Python310/lib/site-packages/wordcloud/__init__.py?line=1'>2</a>\u001b[0m                         get_single_color_func)\n\u001b[0;32m      <a href='file:///c%3A/Users/Latitude%20E7270/AppData/Local/Programs/Python/Python310/lib/site-packages/wordcloud/__init__.py?line=2'>3</a>\u001b[0m \u001b[39mfrom\u001b[39;00m \u001b[39m.\u001b[39;00m\u001b[39mcolor_from_image\u001b[39;00m \u001b[39mimport\u001b[39;00m ImageColorGenerator\n\u001b[0;32m      <a href='file:///c%3A/Users/Latitude%20E7270/AppData/Local/Programs/Python/Python310/lib/site-packages/wordcloud/__init__.py?line=4'>5</a>\u001b[0m __all__ \u001b[39m=\u001b[39m [\u001b[39m'\u001b[39m\u001b[39mWordCloud\u001b[39m\u001b[39m'\u001b[39m, \u001b[39m'\u001b[39m\u001b[39mSTOPWORDS\u001b[39m\u001b[39m'\u001b[39m, \u001b[39m'\u001b[39m\u001b[39mrandom_color_func\u001b[39m\u001b[39m'\u001b[39m,\n\u001b[0;32m      <a href='file:///c%3A/Users/Latitude%20E7270/AppData/Local/Programs/Python/Python310/lib/site-packages/wordcloud/__init__.py?line=5'>6</a>\u001b[0m            \u001b[39m'\u001b[39m\u001b[39mget_single_color_func\u001b[39m\u001b[39m'\u001b[39m, \u001b[39m'\u001b[39m\u001b[39mImageColorGenerator\u001b[39m\u001b[39m'\u001b[39m,\n\u001b[0;32m      <a href='file:///c%3A/Users/Latitude%20E7270/AppData/Local/Programs/Python/Python310/lib/site-packages/wordcloud/__init__.py?line=6'>7</a>\u001b[0m            \u001b[39m'\u001b[39m\u001b[39m__version__\u001b[39m\u001b[39m'\u001b[39m]\n",
      "File \u001b[1;32mc:\\Users\\Latitude E7270\\AppData\\Local\\Programs\\Python\\Python310\\lib\\site-packages\\wordcloud\\wordcloud.py:19\u001b[0m, in \u001b[0;36m<module>\u001b[1;34m\u001b[0m\n\u001b[0;32m     <a href='file:///c%3A/Users/Latitude%20E7270/AppData/Local/Programs/Python/Python310/lib/site-packages/wordcloud/wordcloud.py?line=16'>17</a>\u001b[0m \u001b[39mimport\u001b[39;00m \u001b[39msys\u001b[39;00m\n\u001b[0;32m     <a href='file:///c%3A/Users/Latitude%20E7270/AppData/Local/Programs/Python/Python310/lib/site-packages/wordcloud/wordcloud.py?line=17'>18</a>\u001b[0m \u001b[39mimport\u001b[39;00m \u001b[39mcolorsys\u001b[39;00m\n\u001b[1;32m---> <a href='file:///c%3A/Users/Latitude%20E7270/AppData/Local/Programs/Python/Python310/lib/site-packages/wordcloud/wordcloud.py?line=18'>19</a>\u001b[0m \u001b[39mimport\u001b[39;00m \u001b[39mmatplotlib\u001b[39;00m\n\u001b[0;32m     <a href='file:///c%3A/Users/Latitude%20E7270/AppData/Local/Programs/Python/Python310/lib/site-packages/wordcloud/wordcloud.py?line=19'>20</a>\u001b[0m \u001b[39mimport\u001b[39;00m \u001b[39mnumpy\u001b[39;00m \u001b[39mas\u001b[39;00m \u001b[39mnp\u001b[39;00m\n\u001b[0;32m     <a href='file:///c%3A/Users/Latitude%20E7270/AppData/Local/Programs/Python/Python310/lib/site-packages/wordcloud/wordcloud.py?line=20'>21</a>\u001b[0m \u001b[39mfrom\u001b[39;00m \u001b[39moperator\u001b[39;00m \u001b[39mimport\u001b[39;00m itemgetter\n",
      "File \u001b[1;32mc:\\Users\\Latitude E7270\\AppData\\Local\\Programs\\Python\\Python310\\lib\\site-packages\\matplotlib\\__init__.py:107\u001b[0m, in \u001b[0;36m<module>\u001b[1;34m\u001b[0m\n\u001b[0;32m    <a href='file:///c%3A/Users/Latitude%20E7270/AppData/Local/Programs/Python/Python310/lib/site-packages/matplotlib/__init__.py?line=102'>103</a>\u001b[0m \u001b[39mimport\u001b[39;00m \u001b[39mwarnings\u001b[39;00m\n\u001b[0;32m    <a href='file:///c%3A/Users/Latitude%20E7270/AppData/Local/Programs/Python/Python310/lib/site-packages/matplotlib/__init__.py?line=104'>105</a>\u001b[0m \u001b[39m# cbook must import matplotlib only within function\u001b[39;00m\n\u001b[0;32m    <a href='file:///c%3A/Users/Latitude%20E7270/AppData/Local/Programs/Python/Python310/lib/site-packages/matplotlib/__init__.py?line=105'>106</a>\u001b[0m \u001b[39m# definitions, so it is safe to import from it here.\u001b[39;00m\n\u001b[1;32m--> <a href='file:///c%3A/Users/Latitude%20E7270/AppData/Local/Programs/Python/Python310/lib/site-packages/matplotlib/__init__.py?line=106'>107</a>\u001b[0m \u001b[39mfrom\u001b[39;00m \u001b[39m.\u001b[39;00m \u001b[39mimport\u001b[39;00m _api, cbook, docstring, rcsetup\n\u001b[0;32m    <a href='file:///c%3A/Users/Latitude%20E7270/AppData/Local/Programs/Python/Python310/lib/site-packages/matplotlib/__init__.py?line=107'>108</a>\u001b[0m \u001b[39mfrom\u001b[39;00m \u001b[39mmatplotlib\u001b[39;00m\u001b[39m.\u001b[39;00m\u001b[39mcbook\u001b[39;00m \u001b[39mimport\u001b[39;00m MatplotlibDeprecationWarning, sanitize_sequence\n\u001b[0;32m    <a href='file:///c%3A/Users/Latitude%20E7270/AppData/Local/Programs/Python/Python310/lib/site-packages/matplotlib/__init__.py?line=108'>109</a>\u001b[0m \u001b[39mfrom\u001b[39;00m \u001b[39mmatplotlib\u001b[39;00m\u001b[39m.\u001b[39;00m\u001b[39mcbook\u001b[39;00m \u001b[39mimport\u001b[39;00m mplDeprecation  \u001b[39m# deprecated\u001b[39;00m\n",
      "File \u001b[1;32mc:\\Users\\Latitude E7270\\AppData\\Local\\Programs\\Python\\Python310\\lib\\site-packages\\matplotlib\\cbook\\__init__.py:28\u001b[0m, in \u001b[0;36m<module>\u001b[1;34m\u001b[0m\n\u001b[0;32m     <a href='file:///c%3A/Users/Latitude%20E7270/AppData/Local/Programs/Python/Python310/lib/site-packages/matplotlib/cbook/__init__.py?line=24'>25</a>\u001b[0m \u001b[39mimport\u001b[39;00m \u001b[39mwarnings\u001b[39;00m\n\u001b[0;32m     <a href='file:///c%3A/Users/Latitude%20E7270/AppData/Local/Programs/Python/Python310/lib/site-packages/matplotlib/cbook/__init__.py?line=25'>26</a>\u001b[0m \u001b[39mimport\u001b[39;00m \u001b[39mweakref\u001b[39;00m\n\u001b[1;32m---> <a href='file:///c%3A/Users/Latitude%20E7270/AppData/Local/Programs/Python/Python310/lib/site-packages/matplotlib/cbook/__init__.py?line=27'>28</a>\u001b[0m \u001b[39mimport\u001b[39;00m \u001b[39mnumpy\u001b[39;00m \u001b[39mas\u001b[39;00m \u001b[39mnp\u001b[39;00m\n\u001b[0;32m     <a href='file:///c%3A/Users/Latitude%20E7270/AppData/Local/Programs/Python/Python310/lib/site-packages/matplotlib/cbook/__init__.py?line=29'>30</a>\u001b[0m \u001b[39mimport\u001b[39;00m \u001b[39mmatplotlib\u001b[39;00m\n\u001b[0;32m     <a href='file:///c%3A/Users/Latitude%20E7270/AppData/Local/Programs/Python/Python310/lib/site-packages/matplotlib/cbook/__init__.py?line=30'>31</a>\u001b[0m \u001b[39mfrom\u001b[39;00m \u001b[39mmatplotlib\u001b[39;00m \u001b[39mimport\u001b[39;00m _api, _c_internal_utils\n",
      "File \u001b[1;32mc:\\Users\\Latitude E7270\\AppData\\Local\\Programs\\Python\\Python310\\lib\\site-packages\\numpy\\__init__.py:112\u001b[0m, in \u001b[0;36m<module>\u001b[1;34m\u001b[0m\n\u001b[0;32m    <a href='file:///c%3A/Users/Latitude%20E7270/AppData/Local/Programs/Python/Python310/lib/site-packages/numpy/__init__.py?line=108'>109</a>\u001b[0m \u001b[39mimport\u001b[39;00m \u001b[39msys\u001b[39;00m\n\u001b[0;32m    <a href='file:///c%3A/Users/Latitude%20E7270/AppData/Local/Programs/Python/Python310/lib/site-packages/numpy/__init__.py?line=109'>110</a>\u001b[0m \u001b[39mimport\u001b[39;00m \u001b[39mwarnings\u001b[39;00m\n\u001b[1;32m--> <a href='file:///c%3A/Users/Latitude%20E7270/AppData/Local/Programs/Python/Python310/lib/site-packages/numpy/__init__.py?line=111'>112</a>\u001b[0m \u001b[39mfrom\u001b[39;00m \u001b[39m.\u001b[39;00m\u001b[39m_globals\u001b[39;00m \u001b[39mimport\u001b[39;00m ModuleDeprecationWarning, VisibleDeprecationWarning\n\u001b[0;32m    <a href='file:///c%3A/Users/Latitude%20E7270/AppData/Local/Programs/Python/Python310/lib/site-packages/numpy/__init__.py?line=112'>113</a>\u001b[0m \u001b[39mfrom\u001b[39;00m \u001b[39m.\u001b[39;00m\u001b[39m_globals\u001b[39;00m \u001b[39mimport\u001b[39;00m _NoValue\n\u001b[0;32m    <a href='file:///c%3A/Users/Latitude%20E7270/AppData/Local/Programs/Python/Python310/lib/site-packages/numpy/__init__.py?line=114'>115</a>\u001b[0m \u001b[39m# We first need to detect if we're being called as part of the numpy setup\u001b[39;00m\n\u001b[0;32m    <a href='file:///c%3A/Users/Latitude%20E7270/AppData/Local/Programs/Python/Python310/lib/site-packages/numpy/__init__.py?line=115'>116</a>\u001b[0m \u001b[39m# procedure itself in a reliable manner.\u001b[39;00m\n",
      "\u001b[1;31mImportError\u001b[0m: cannot import name '_CopyMode' from 'numpy._globals' (c:\\Users\\Latitude E7270\\AppData\\Local\\Programs\\Python\\Python310\\lib\\site-packages\\numpy\\_globals.py)"
     ]
    }
   ],
   "source": [
    "import wordcloud\n",
    "# import numpy as np\n",
    "# from matplotlib import pyplot as plt\n",
    "# from IPython.display import display\n",
    "# import fileupload\n",
    "# import io\n",
    "# import sys"
   ]
  }
 ],
 "metadata": {
  "interpreter": {
   "hash": "8eede22598bfb2ec59ca93270f7144183cecbe045428b25fd92150a347eec21f"
  },
  "kernelspec": {
   "display_name": "Python 3.10.4 64-bit",
   "language": "python",
   "name": "python3"
  },
  "language_info": {
   "codemirror_mode": {
    "name": "ipython",
    "version": 3
   },
   "file_extension": ".py",
   "mimetype": "text/x-python",
   "name": "python",
   "nbconvert_exporter": "python",
   "pygments_lexer": "ipython3",
   "version": "3.10.4"
  },
  "orig_nbformat": 4
 },
 "nbformat": 4,
 "nbformat_minor": 2
}
