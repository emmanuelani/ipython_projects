{
 "cells": [
  {
   "cell_type": "code",
   "execution_count": 18,
   "metadata": {},
   "outputs": [
    {
     "name": "stdout",
     "output_type": "stream",
     "text": [
      "Emma 0\n",
      "Ani 1\n",
      "Chisom 2\n",
      "Mark 3\n"
     ]
    }
   ],
   "source": [
    "mytuple = \"Emma\", \"Ani\", \"Chisom\", \"Mark\"\n",
    "\n",
    "for i, names in enumerate(mytuple):\n",
    "    print(names, i)\n",
    "\n",
    "    \n"
   ]
  },
  {
   "cell_type": "code",
   "execution_count": 60,
   "metadata": {},
   "outputs": [
    {
     "name": "stdout",
     "output_type": "stream",
     "text": [
      "List: {'a': 'A', 'b': 'B', 'c': 'C', 'd': 'D', 'e': 'E', 'f': 'F', 'g': 'G', 'h': 'H', 'i': 'I', 'j': 'J', 'k': 'K', 'l': 'L', 'm': 'M', 'n': 'N', 'o': 'O', 'p': 'P', 'q': 'Q', 'r': 'R', 's': 'S', 't': 'T', 'u': 'U', 'v': 'V', 'w': 'W', 'x': 'X', 'y': 'Y', 'z': 'Z'}\n",
      "Size of dict_1 = 1176\n",
      "Size of list_1 = 173016\n",
      "Size of generator_1 = 112\n"
     ]
    }
   ],
   "source": [
    "import random\n",
    "import sys\n",
    "\n",
    "# Dictionary Comprehension\n",
    "# The chr() fucntion returns a unicode string of one character\n",
    "dict_1 = {chr(i+97):chr(i+65) for i in range(26)}\n",
    "print(f\"List: {dict_1}\")\n",
    "print(f\"Size of dict_1 = {sys.getsizeof(dict_1)}\") # getting the size of the dictionary object\n",
    "\n",
    "# help(chr)\n",
    "# List Comprehension\n",
    "list_1 = [chr(x+65) for x in range(20099)]\n",
    "# print(f\"List: {list_1}\")\n",
    "print(f\"Size of list_1 = {sys.getsizeof(list_1)}\") # getting the size of the list object\n",
    "\n",
    "# Gernator comprehension\n",
    "generator_1 = (chr(x+65) for x in range(20099))\n",
    "# print(f\"Generator: {generator_1}\")\n",
    "print(f\"Size of generator_1 = {sys.getsizeof(generator_1)}\") # getting the size of the generator object\n",
    "\n",
    "# help(sys)\n"
   ]
  },
  {
   "cell_type": "code",
   "execution_count": 16,
   "metadata": {},
   "outputs": [
    {
     "data": {
      "text/plain": [
       "'{\\n    \"python.defaultInterpreterPath\": \"C:\\\\\\\\Users\\\\\\\\Latitude E7270\\\\\\\\AppData\\\\\\\\Local\\\\\\\\Programs\\\\\\\\Python\\\\\\\\Python39\\\\\\\\python.exe\",\\n    \"terminal.integrated.cursorStyle\": \"line\",\\n    \"terminal.integrated.cursorBlinking\": true,\\n    \"debug.terminal.clearBeforeReusing\": true,\\n    \"terminal.integrated.defaultProfile.windows\": \"Command Prompt\",\\n    \"notebook.lineNumbers\": \"on\",\\n    \"tabnine.experimentalAutoImports\": true,\\n    \"terminal.integrated.gpuAcceleration\": \"off\",\\n    \"editor.acceptSuggestionOnEnter\": \"smart\",\\n    \"workbench.colorTheme\": \"Panda Syntax\",\\n    \"kite.showWelcomeNotificationOnStartup\": false,\\n    \"liveServer.settings.donotShowInfoMsg\": true,\\n    \"bracket-pair-colorizer-2.depreciation-notice\": false,\\n    \"workbench.editorAssociations\": {\\n        \"*.docx\": \"default\",\\n        \"*.zip\": \"default\"\\n    },\\n    \"files.associations\": {\\n        \"*.rmd\": \"markdown\"\\n    },\\n    \"jupyter.jupyterServerType\": \"local\",\\n    \"python.terminal.activateEnvInCurrentTerminal\": true,\\n    \"jupyter.sendSelectionToInteractiveWindow\": true,\\n    \"explorer.confirmDelete\": false,\\n    \"workbench.editor.autoLockGroups\": {\\n        \"jupyter-notebook\": true\\n    },\\n    \"jupyter.logKernelOutputSeparately\": true,\\n    \"r.rmarkdown.knit.openOutputFile\": true,\\n    \"jupyter.exportWithOutputEnabled\": true,\\n    \"jupyter.generateSVGPlots\": true,\\n    \"jupyter.kernels.filter\": []\\n}'"
      ]
     },
     "execution_count": 16,
     "metadata": {},
     "output_type": "execute_result"
    }
   ],
   "source": [
    "# Working with json files\n",
    "\n",
    "import json\n",
    "\n",
    "mydict = dict({\n",
    "    \"python.defaultInterpreterPath\": \"C:\\\\Users\\\\Latitude E7270\\\\AppData\\\\Local\\\\Programs\\\\Python\\\\Python39\\\\python.exe\",\n",
    "    \"terminal.integrated.cursorStyle\": \"line\",\n",
    "    \"terminal.integrated.cursorBlinking\": True,\n",
    "    \"debug.terminal.clearBeforeReusing\": True,\n",
    "    \"terminal.integrated.defaultProfile.windows\": \"Command Prompt\",\n",
    "    \"notebook.lineNumbers\": \"on\",\n",
    "    \"tabnine.experimentalAutoImports\": True,\n",
    "    \"terminal.integrated.gpuAcceleration\": \"off\",\n",
    "    \"editor.acceptSuggestionOnEnter\": \"smart\",\n",
    "    \"workbench.colorTheme\": \"Panda Syntax\",\n",
    "    \"kite.showWelcomeNotificationOnStartup\": False,\n",
    "    \"liveServer.settings.donotShowInfoMsg\": True,\n",
    "    \"bracket-pair-colorizer-2.depreciation-notice\": False,\n",
    "    \"workbench.editorAssociations\": {\n",
    "        \"*.docx\": \"default\",\n",
    "        \"*.zip\": \"default\"\n",
    "    },\n",
    "    \"files.associations\": {\n",
    "        \"*.rmd\": \"markdown\"\n",
    "    },\n",
    "    \"jupyter.jupyterServerType\": \"local\",\n",
    "    \"python.terminal.activateEnvInCurrentTerminal\": True,\n",
    "    \"jupyter.sendSelectionToInteractiveWindow\": True,\n",
    "    \"explorer.confirmDelete\": False,\n",
    "    \"workbench.editor.autoLockGroups\": {\n",
    "        \"jupyter-notebook\": True\n",
    "    },\n",
    "    \"jupyter.logKernelOutputSeparately\": True,\n",
    "    \"r.rmarkdown.knit.openOutputFile\": True,\n",
    "    \"jupyter.exportWithOutputEnabled\": True,\n",
    "    \"jupyter.generateSVGPlots\": True,\n",
    "    \"jupyter.kernels.filter\": [\n",
    "    \n",
    "    ]\n",
    "})\n",
    "\n",
    "json_file = json.dumps(mydict, indent=4)\n",
    "json_file\n",
    "\n",
    "# type(mydict)"
   ]
  },
  {
   "cell_type": "markdown",
   "metadata": {},
   "source": [
    "#### Counter"
   ]
  },
  {
   "cell_type": "code",
   "execution_count": 136,
   "metadata": {},
   "outputs": [
    {
     "name": "stdout",
     "output_type": "stream",
     "text": [
      "k\n",
      "[('q', 1), ('d', 2), ('j', 5), ('c', 3), ('n', 3), ('o', 4), ('f', 3), ('i', 3), ('r', 4), ('h', 1), ('k', 7), ('a', 2), ('l', 4), ('m', 4), ('x', 1), ('e', 1), ('b', 1), ('s', 1), ('p', 1), ('g', 1), ('v', 2)]\n",
      "dict_items([('q', 1), ('d', 2), ('j', 5), ('c', 3), ('n', 3), ('o', 4), ('f', 3), ('i', 3), ('r', 4), ('h', 1), ('k', 7), ('a', 2), ('l', 4), ('m', 4), ('x', 1), ('e', 1), ('b', 1), ('s', 1), ('p', 1), ('g', 1), ('v', 2)])\n"
     ]
    }
   ],
   "source": [
    "from collections import Counter\n",
    "'''\n",
    "The Counter collection simply counts the number of each elements in a string\n",
    "and returns a key-value pair result where the key is each element and the value\n",
    "is the frequency.\n",
    "'''\n",
    "a = \"qdjcndojofirhfirkalkmlcnkjoflmkjxiecbjsnoalmrkpkmgvkrv\"\n",
    "\n",
    "# generating a counter object\n",
    "my_counter = Counter(a) \n",
    "#the most_common method prints out the counted result in a sorted manner.\n",
    "print(my_counter.most_common(1)[0][0])\n",
    "print(list(my_counter.items())) #using the list method to properly view the counter items\n",
    "print(my_counter.items()) \n",
    "\n",
    "my_dict = dict(my_counter)\n",
    "my_counter['k'] = 19\n",
    "my_counter['house'] = 387494\n",
    "my_counter.most_common()\n",
    "my_counter.pop('house')\n",
    "my_counter = Counter(a)\n",
    "\n",
    "# my_counter\n"
   ]
  },
  {
   "cell_type": "markdown",
   "metadata": {},
   "source": [
    "#### namedtuple"
   ]
  },
  {
   "cell_type": "code",
   "execution_count": 104,
   "metadata": {},
   "outputs": [
    {
     "name": "stdout",
     "output_type": "stream",
     "text": [
      "This current module is not imported\n"
     ]
    }
   ],
   "source": [
    "from collections import namedtuple\n",
    "# help(namedtuple)\n",
    "\n",
    "# I honestly don't fully understand what this namedtuple collection does and its use case\n",
    "\n",
    "point = namedtuple('Pint', 'x,y')\n",
    "pt = point(1, -3)\n",
    "dir(point)\n",
    "\n",
    "if __name__ == '__main__':\n",
    "    '''This basically means that if this file or module is being imported in another\n",
    "    file or scipt, don't run the following lines of code\n",
    "    '''\n",
    "    print('This current module is not imported')"
   ]
  },
  {
   "cell_type": "markdown",
   "metadata": {},
   "source": [
    "#### OrderedDict\n"
   ]
  },
  {
   "cell_type": "code",
   "execution_count": 2,
   "metadata": {},
   "outputs": [
    {
     "name": "stdout",
     "output_type": "stream",
     "text": [
      "Hello, my name is Gift. The name of my school is Gbagada girls junior secondary school\n"
     ]
    }
   ],
   "source": [
    "from collections import OrderedDict\n",
    "'''\n",
    "this is just like a regular dictionary, but it remembers the order in which they were inserted. \n",
    "From Python 3.7 and above, a normal dictionary would also remember the order in which the items were inserted\n",
    "'''\n",
    "\n",
    "ordered_dict = OrderedDict()\n",
    "ordered_dict['a'] = 1\n",
    "ordered_dict['b'] = 2\n",
    "ordered_dict['c'] = 3\n",
    "ordered_dict['d'] = 4\n",
    "ordered_dict['e'] = 5\n",
    "ordered_dict['f'] = 6\n",
    "\n",
    "ordered_dict    \n",
    "\n",
    "name = 'Gift'\n",
    "school = 'Gbagada girls junior secondary school'\n",
    "\n",
    "print(f'Hello, my name is {name}. The name of my school is {school}')"
   ]
  },
  {
   "cell_type": "code",
   "execution_count": 2,
   "metadata": {},
   "outputs": [
    {
     "data": {
      "text/plain": [
       "defaultdict(str,\n",
       "            {'Age': 21, 'State': 'Enugu', 'DOB': 'May, 17th', 'height': ''})"
      ]
     },
     "execution_count": 2,
     "metadata": {},
     "output_type": "execute_result"
    }
   ],
   "source": [
    "from collections import defaultdict\n",
    "'''\n",
    "A defaultdict is just like a regular dict just that in a defaultdict, you can specify \n",
    "what value a key would have if that key is not present in the dictionary\n",
    "'''\n",
    "d = {}\n",
    "# specifying that a key not present would be assigned a default integer value of 0, default float of 0.0, an empty string or empty list\n",
    "d['Name'] = 'Emma' \n",
    "d = defaultdict(str) \n",
    "d['Age'] = 21\n",
    "d['State'] = 'Enugu'\n",
    "d['DOB'] = 'May, 17th'\n",
    "d['height'] # in a normal dictionary, calling this would rasie a KeyError\n",
    "\n",
    "d"
   ]
  },
  {
   "cell_type": "code",
   "execution_count": 6,
   "metadata": {},
   "outputs": [
    {
     "data": {
      "text/plain": [
       "deque([-4, -3, -2, -1, 0])"
      ]
     },
     "execution_count": 6,
     "metadata": {},
     "output_type": "execute_result"
    }
   ],
   "source": [
    "from collections import deque\n",
    "d = deque(maxlen=5)\n",
    "\n",
    "'''\n",
    "a deque collection has the functionality of appended, removing and extending an element to the left side \n",
    "of a list, which a list can't do. It basically is flexible at bothe ends of the list\n",
    "'''\n",
    "\n",
    "d.append(1) \n",
    "d.append(2) #appe\n",
    "d.appendleft(3)\n",
    "# d.extend([4, 5, 6, 7, 8])\n",
    "d.extendleft([0, -1, -2, -3, -4])\n",
    "# d.rotate()\n",
    "# d.rotate(1)\n",
    "# d.popleft()\n",
    "d\n",
    "\n",
    "\n"
   ]
  },
  {
   "cell_type": "markdown",
   "metadata": {},
   "source": [
    "#### *Itertools*\n",
    "##### Iterators are datatypes that can be used in a for loop\n",
    "##### Itertools are used to work with iterators"
   ]
  },
  {
   "cell_type": "code",
   "execution_count": null,
   "metadata": {},
   "outputs": [],
   "source": [
    "from itertools import product\n",
    "from itertools import permutations\n",
    "from itertools import combinations\n",
    "from itertools import accumulate\n",
    "from itertools import groupby\n",
    "from itertools import infinite i\n"
   ]
  },
  {
   "cell_type": "code",
   "execution_count": null,
   "metadata": {},
   "outputs": [],
   "source": []
  },
  {
   "cell_type": "markdown",
   "metadata": {},
   "source": []
  },
  {
   "cell_type": "markdown",
   "metadata": {},
   "source": [
    "### zip function\n",
    "##### From what I understand about the zip function. It can be used to kindof unpack iterables into specified variables. It is ot the same with tuple unpacking becasue tuple unpacking just simply assign some items in a list to variables. "
   ]
  },
  {
   "cell_type": "code",
   "execution_count": 132,
   "metadata": {},
   "outputs": [
    {
     "name": "stdout",
     "output_type": "stream",
     "text": [
      "[('f', 6), ('j', 4), ('b', 2), ('n', 2)]\n",
      "('f', 'j', 'b', 'n')\n",
      "Help on class zip in module builtins:\n",
      "\n",
      "class zip(object)\n",
      " |  zip(*iterables) --> A zip object yielding tuples until an input is exhausted.\n",
      " |  \n",
      " |     >>> list(zip('abcdefg', range(3), range(4)))\n",
      " |     [('a', 0, 0), ('b', 1, 1), ('c', 2, 2)]\n",
      " |  \n",
      " |  The zip object yields n-length tuples, where n is the number of iterables\n",
      " |  passed as positional arguments to zip().  The i-th element in every tuple\n",
      " |  comes from the i-th iterable argument to zip().  This continues until the\n",
      " |  shortest argument is exhausted.\n",
      " |  \n",
      " |  Methods defined here:\n",
      " |  \n",
      " |  __getattribute__(self, name, /)\n",
      " |      Return getattr(self, name).\n",
      " |  \n",
      " |  __iter__(self, /)\n",
      " |      Implement iter(self).\n",
      " |  \n",
      " |  __next__(self, /)\n",
      " |      Implement next(self).\n",
      " |  \n",
      " |  __reduce__(...)\n",
      " |      Return state information for pickling.\n",
      " |  \n",
      " |  ----------------------------------------------------------------------\n",
      " |  Static methods defined here:\n",
      " |  \n",
      " |  __new__(*args, **kwargs) from builtins.type\n",
      " |      Create and return a new object.  See help(type) for accurate signature.\n",
      "\n"
     ]
    }
   ],
   "source": [
    "from collections import Counter\n",
    "\n",
    "c = 'dfjbnojkwhfoffuwjsgbfjhnf'\n",
    "my_counter = Counter(c)\n",
    "my_list = my_counter.most_common(4)\n",
    "type(my_list) #prints out the list data type\n",
    "print(my_list)\n",
    "\n",
    "letters, numbers = zip(*my_list) # unzipping my_list The * character is used to unzip items in the zip function.\n",
    "print(letters )\n",
    "numbers\n",
    "\n",
    "new_zipped_item = list(zip(letters, numbers)) # zipping letters and numbers\n",
    "new_zipped_item\n",
    "\n",
    "help(zip)\n",
    "\n"
   ]
  },
  {
   "cell_type": "code",
   "execution_count": 172,
   "metadata": {},
   "outputs": [
    {
     "name": "stdout",
     "output_type": "stream",
     "text": [
      "Help on module pipes:\n",
      "\n",
      "NAME\n",
      "    pipes - Conversion pipeline templates.\n",
      "\n",
      "MODULE REFERENCE\n",
      "    https://docs.python.org/3.9/library/pipes\n",
      "    \n",
      "    The following documentation is automatically generated from the Python\n",
      "    source files.  It may be incomplete, incorrect or include features that\n",
      "    are considered implementation detail and may vary between Python\n",
      "    implementations.  When in doubt, consult the module reference at the\n",
      "    location listed above.\n",
      "\n",
      "DESCRIPTION\n",
      "    The problem:\n",
      "    ------------\n",
      "    \n",
      "    Suppose you have some data that you want to convert to another format,\n",
      "    such as from GIF image format to PPM image format.  Maybe the\n",
      "    conversion involves several steps (e.g. piping it through compress or\n",
      "    uuencode).  Some of the conversion steps may require that their input\n",
      "    is a disk file, others may be able to read standard input; similar for\n",
      "    their output.  The input to the entire conversion may also be read\n",
      "    from a disk file or from an open file, and similar for its output.\n",
      "    \n",
      "    The module lets you construct a pipeline template by sticking one or\n",
      "    more conversion steps together.  It will take care of creating and\n",
      "    removing temporary files if they are necessary to hold intermediate\n",
      "    data.  You can then use the template to do conversions from many\n",
      "    different sources to many different destinations.  The temporary\n",
      "    file names used are different each time the template is used.\n",
      "    \n",
      "    The templates are objects so you can create templates for many\n",
      "    different conversion steps and store them in a dictionary, for\n",
      "    instance.\n",
      "    \n",
      "    \n",
      "    Directions:\n",
      "    -----------\n",
      "    \n",
      "    To create a template:\n",
      "        t = Template()\n",
      "    \n",
      "    To add a conversion step to a template:\n",
      "       t.append(command, kind)\n",
      "    where kind is a string of two characters: the first is '-' if the\n",
      "    command reads its standard input or 'f' if it requires a file; the\n",
      "    second likewise for the output. The command must be valid /bin/sh\n",
      "    syntax.  If input or output files are required, they are passed as\n",
      "    $IN and $OUT; otherwise, it must be  possible to use the command in\n",
      "    a pipeline.\n",
      "    \n",
      "    To add a conversion step at the beginning:\n",
      "       t.prepend(command, kind)\n",
      "    \n",
      "    To convert a file to another file using a template:\n",
      "      sts = t.copy(infile, outfile)\n",
      "    If infile or outfile are the empty string, standard input is read or\n",
      "    standard output is written, respectively.  The return value is the\n",
      "    exit status of the conversion pipeline.\n",
      "    \n",
      "    To open a file for reading or writing through a conversion pipeline:\n",
      "       fp = t.open(file, mode)\n",
      "    where mode is 'r' to read the file, or 'w' to write it -- just like\n",
      "    for the built-in function open() or for os.popen().\n",
      "    \n",
      "    To create a new template object initialized to a given one:\n",
      "       t2 = t.clone()\n",
      "\n",
      "CLASSES\n",
      "    builtins.object\n",
      "        Template\n",
      "    \n",
      "    class Template(builtins.object)\n",
      "     |  Class representing a pipeline template.\n",
      "     |  \n",
      "     |  Methods defined here:\n",
      "     |  \n",
      "     |  __init__(self)\n",
      "     |      Template() returns a fresh pipeline template.\n",
      "     |  \n",
      "     |  __repr__(self)\n",
      "     |      t.__repr__() implements repr(t).\n",
      "     |  \n",
      "     |  append(self, cmd, kind)\n",
      "     |      t.append(cmd, kind) adds a new step at the end.\n",
      "     |  \n",
      "     |  clone(self)\n",
      "     |      t.clone() returns a new pipeline template with identical\n",
      "     |      initial state as the current one.\n",
      "     |  \n",
      "     |  copy(self, infile, outfile)\n",
      "     |  \n",
      "     |  debug(self, flag)\n",
      "     |      t.debug(flag) turns debugging on or off.\n",
      "     |  \n",
      "     |  makepipeline(self, infile, outfile)\n",
      "     |  \n",
      "     |  open(self, file, rw)\n",
      "     |      t.open(file, rw) returns a pipe or file object open for\n",
      "     |      reading or writing; the file is the other end of the pipeline.\n",
      "     |  \n",
      "     |  open_r(self, file)\n",
      "     |      t.open_r(file) and t.open_w(file) implement\n",
      "     |      t.open(file, 'r') and t.open(file, 'w') respectively.\n",
      "     |  \n",
      "     |  open_w(self, file)\n",
      "     |  \n",
      "     |  prepend(self, cmd, kind)\n",
      "     |      t.prepend(cmd, kind) adds a new step at the front.\n",
      "     |  \n",
      "     |  reset(self)\n",
      "     |      t.reset() restores a pipeline template to its initial state.\n",
      "     |  \n",
      "     |  ----------------------------------------------------------------------\n",
      "     |  Data descriptors defined here:\n",
      "     |  \n",
      "     |  __dict__\n",
      "     |      dictionary for instance variables (if defined)\n",
      "     |  \n",
      "     |  __weakref__\n",
      "     |      list of weak references to the object (if defined)\n",
      "\n",
      "DATA\n",
      "    __all__ = ['Template']\n",
      "\n",
      "FILE\n",
      "    c:\\users\\latitude e7270\\appdata\\local\\programs\\python\\python39\\lib\\pipes.py\n",
      "\n",
      "\n"
     ]
    }
   ],
   "source": [
    "import pipes\n",
    "help(pipes)"
   ]
  },
  {
   "cell_type": "code",
   "execution_count": 186,
   "metadata": {},
   "outputs": [
    {
     "name": "stdout",
     "output_type": "stream",
     "text": [
      "This is the value of i before the increment: 0\n",
      "This is the value of i after the increment: 1\n",
      "This is the value of i before the increment: 1\n",
      "This is the value of i after the increment: 2\n",
      "This is the value of i before the increment: 2\n",
      "This is the value of i after the increment: 3\n",
      "This is the value of i before the increment: 3\n",
      "This is the value of i after the increment: 4\n",
      "This is the value of i before the increment: 4\n",
      "This is the value of i after the increment: 5\n",
      "breaking loop\n",
      "5\n",
      "4\n",
      "3\n",
      "2\n",
      "1\n"
     ]
    }
   ],
   "source": [
    "i = 0\n",
    "while True:\n",
    "    print(f\"This is the value of i before the increment: {i}\")\n",
    "    i += 1\n",
    "    print(f\"This is the value of i after the increment: {i}\")\n",
    "    if i == 5:\n",
    "        print(\"breaking loop\")\n",
    "        break\n",
    "\n",
    "    # generators\n",
    "def countdown():\n",
    "    i = 5\n",
    "    while i > 0:\n",
    "        yield i\n",
    "        i -= 1\n",
    "\n",
    "countdown()\n",
    "\n",
    "for i in countdown():\n",
    "    print(i)\n"
   ]
  },
  {
   "cell_type": "code",
   "execution_count": 12,
   "metadata": {},
   "outputs": [
    {
     "name": "stdout",
     "output_type": "stream",
     "text": [
      "2180990527824\n",
      "2180990527824\n",
      "2180990528688\n",
      "2180990528688\n",
      "2180990723440\n",
      "2180990723440\n",
      "2181221080128\n"
     ]
    }
   ],
   "source": [
    "import math as e\n",
    "import inspect\n",
    "# e == 4 # this compares the identity of the two objects\n",
    "\n",
    "num = 2\n",
    "num_2 = 29\n",
    "num_3 = 223\n",
    "print\n",
    "print(id(2))\n",
    "print(id(num))\n",
    "print(id(29))\n",
    "print(id(num_2))\n",
    "print(id(223))\n",
    "print(id(num_3))\n",
    "\n",
    "# so basically when we compare two values in python we are actually comparing their id, in python every\n",
    "# objects has an id that is unique to them. So when the result a comparison is true, the id of the two \n",
    "# objects are essentially the same.\n",
    "\n",
    "# inspect.ismethod()\n",
    "\n",
    "type(inspect)\n",
    "\n",
    "list_1 = [2, 3, 4, 5]\n",
    "list_2 = [2, 3, 4, 5]\n",
    "\n",
    "list_3 = list_1.copy()\n",
    "list_4 = list_2\n",
    "\n",
    "list_1 is list_2\n",
    "list_3 is list_1\n",
    "list_4 is list_2\n",
    "\n",
    "print(id(list_1))\n"
   ]
  },
  {
   "cell_type": "code",
   "execution_count": 13,
   "metadata": {},
   "outputs": [
    {
     "name": "stdout",
     "output_type": "stream",
     "text": [
      "range(0, 30)\n"
     ]
    },
    {
     "data": {
      "text/plain": [
       "<function __main__.generator_func()>"
      ]
     },
     "execution_count": 13,
     "metadata": {},
     "output_type": "execute_result"
    }
   ],
   "source": [
    "import inspect\n",
    "\n",
    "def generator_func():\n",
    "    x = range(30)\n",
    "    yield x\n",
    "\n",
    "generator_func()\n",
    "for i in generator_func():\n",
    "    print(i)\n",
    "\n",
    "generator_func"
   ]
  },
  {
   "cell_type": "code",
   "execution_count": 45,
   "metadata": {},
   "outputs": [
    {
     "name": "stdout",
     "output_type": "stream",
     "text": [
      "{\n",
      "    \"names\": {\n",
      "        \"level_400\": [\n",
      "            \"Emmanuel Ani\",\n",
      "            \"Elebesunu Emmanuel\",\n",
      "            \"Asika Marvellous\",\n",
      "            \"Sylvanus Precious\"\n",
      "        ],\n",
      "        \"level_300\": [\n",
      "            \"John Peace\",\n",
      "            \"Mark Odachi\",\n",
      "            \"Favour Ojukwu\"\n",
      "        ]\n",
      "    },\n",
      "    \"Age\": [\n",
      "        21,\n",
      "        22\n",
      "    ],\n",
      "    \"Sex\": [\n",
      "        \"Male\",\n",
      "        \"Male\",\n",
      "        \"Male\",\n",
      "        \"Female\"\n",
      "    ],\n",
      "    \"State\": [\n",
      "        \"Enugu\",\n",
      "        \"Edo\",\n",
      "        \"Imo\",\n",
      "        \"Abia\"\n",
      "    ],\n",
      "    \"Vaccine Status\": [\n",
      "        true,\n",
      "        false,\n",
      "        true,\n",
      "        false\n",
      "    ]\n",
      "}\n"
     ]
    }
   ],
   "source": [
    "import json\n",
    "\n",
    "my_dict = {\"names\": {\"level_400\" : [\"Emmanuel Ani\", \"Elebesunu Emmanuel\", \"Asika Marvellous\", \"Sylvanus Precious\"],\n",
    "                    \"level_300\" : [\"John Peace\", \"Mark Odachi\", \"Favour Ojukwu\"]},\n",
    "            \"Age\": [21, 22], \"Sex\": [\"Male\", \"Male\", \"Male\", \"Female\"], \n",
    "            \"State\": [\"Enugu\", \"Edo\", \"Imo\", \"Abia\"],\n",
    "            \"Vaccine Status\": [True, False, True, False]}\n",
    "\n",
    "json_file = json.dumps(my_dict, indent=4)\n",
    "\n",
    "with open(\"my_file.json\", \"w\") as f:\n",
    "    json.dump(my_dict, f, indent=4)\n",
    "\n",
    "my_dict\n",
    "json_file\n",
    "\n",
    "normal_file = json.loads(json_file)\n",
    "normal_file\n",
    "json_file\n",
    "\n",
    "with open(\"my_file.json\") as f:\n",
    "    file = f.read()\n",
    "\n",
    "print(file)"
   ]
  },
  {
   "cell_type": "code",
   "execution_count": 35,
   "metadata": {},
   "outputs": [
    {
     "name": "stdout",
     "output_type": "stream",
     "text": [
      "0.13436424411240122\n",
      "0.13436424411240122\n",
      "9\n",
      "18\n"
     ]
    }
   ],
   "source": [
    "# Random numbers \n",
    "import random\n",
    "# Disclaimer: the numbers generated using this module are pseudorandom, they can be reproducible using\n",
    "# the seed fucntion\n",
    "\n",
    "random.seed(1)\n",
    "print(random.random()) # selects a random float number between 0 and 1\n",
    "random.uniform(1, 8) # selects a random floats number between two specified numbers\n",
    "random.randint(1, 10) # selects a random integer between two specified values, includes the last number\n",
    "random.randrange(1, 10) # selects a random integer between two specified values, excludes the last number\n",
    "random.normalvariate(1, 4) # the first positional parameter is the mean and the second is the standard deviation\n",
    "# help(random.paretovariate)\n",
    "rand_list = list(range(1, 67))\n",
    "rand_list\n",
    "random.choice(rand_list) # picks a random number from a list\n",
    "random.sample(rand_list, 3) # picks a specified number of sample from a list, cannot pick multiple values\n",
    "random.choices(rand_list, k=8) # can pick multiple values\n",
    "random.shuffle(rand_list) # shuffles a list\n",
    "\n",
    "random.seed(1)\n",
    "print(random.random())\n",
    "print(random.randint(1, 67))\n",
    "\n",
    "\n",
    "random.seed(1)\n",
    "print(random.randint(1, 67))\n",
    "\n",
    "\n",
    "\n",
    "\n"
   ]
  },
  {
   "cell_type": "code",
   "execution_count": 3,
   "metadata": {},
   "outputs": [
    {
     "name": "stdout",
     "output_type": "stream",
     "text": [
      "5\n"
     ]
    }
   ],
   "source": [
    "# Decorators\n",
    "# a decorator is a function that extends the behavior of another function without explicitly modifying it\n",
    "# There  are two types of decorators \n",
    "# -> Function decorators\n",
    "# -> Class decorators\n",
    "\n",
    "# function decorator\n",
    "def random():\n",
    "    return 5\n",
    "\n",
    "print(random())"
   ]
  },
  {
   "cell_type": "code",
   "execution_count": 39,
   "metadata": {},
   "outputs": [
    {
     "name": "stdout",
     "output_type": "stream",
     "text": [
      "(0|0) (0|1) (0|2) (0|3) (0|4) (0|5) (0|6) (0|7) (0|8) (0|9) \n",
      "(1|1) (1|2) (1|3) (1|4) (1|5) (1|6) (1|7) (1|8) (1|9) \n",
      "(2|2) (2|3) (2|4) (2|5) (2|6) (2|7) (2|8) (2|9) \n",
      "(3|3) (3|4) (3|5) (3|6) (3|7) (3|8) (3|9) \n",
      "(4|4) (4|5) (4|6) (4|7) (4|8) (4|9) \n",
      "(5|5) (5|6) (5|7) (5|8) (5|9) \n",
      "(6|6) (6|7) (6|8) (6|9) \n",
      "(7|7) (7|8) (7|9) \n",
      "(8|8) (8|9) \n",
      "(9|9) \n",
      "(0:1) (0:2) (0:3) (0:4) (0:5) (0:6) (0:7) (0:8) (0:9) (1:2) (1:3) (1:4) (1:5) (1:6) (1:7) (1:8) (1:9) (2:3) (2:4) (2:5) (2:6) (2:7) (2:8) (2:9) (3:4) (3:5) (3:6) (3:7) (3:8) (3:9) (4:5) (4:6) (4:7) (4:8) (4:9) (5:6) (5:7) (5:8) (5:9) (6:7) (6:8) (6:9) (7:8) (7:9) (8:9) "
     ]
    }
   ],
   "source": [
    "# Nested loop\n",
    "\n",
    "for i in range(10):\n",
    "    for j in range(i, 10):\n",
    "        print(\"(\" + str(i) + \"|\" + str(j) + \")\", end=\" \")\n",
    "    print()\n",
    "\n",
    "for nums_1 in range(10):\n",
    "    for nums_2 in range(10):\n",
    "        if nums_1 < nums_2:\n",
    "            print(\"(\" + str(nums_1) + \":\" + str(nums_2) + \")\", end=\" \")\n",
    "\n",
    "names = [\"Ani\", \"Emma\", \"Gray\", \"Michael\"]\n",
    "\n",
    "gen = (x for x in range(20))\n",
    "\n"
   ]
  },
  {
   "cell_type": "code",
   "execution_count": 1,
   "metadata": {},
   "outputs": [
    {
     "name": "stdout",
     "output_type": "stream",
     "text": [
      "Using normal indexing: \n",
      "0 : egg\n",
      "1 : 3\n",
      "2 : rice\n",
      "3 : meat\n",
      "4 : beans\n",
      "5 : 5\n",
      "Using enumerate function: \n",
      "0 : egg\n",
      "1 : 3\n",
      "2 : rice\n",
      "3 : meat\n",
      "4 : beans\n",
      "5 : 5\n"
     ]
    }
   ],
   "source": [
    "# Enumerate function\n",
    "list_1 = [\"egg\", 3, \"rice\", \"meat\", \"beans\", 5]\n",
    "\n",
    "# Printing out the index and value of list_1 using the regular method\n",
    "print(\"Using normal indexing: \")\n",
    "for i in range(len(list_1)):\n",
    "    print(i, \":\", list_1[i])\n",
    "\n",
    "# Printing out the index and value of list_1 using the enumerate function\n",
    "print(\"Using enumerate function: \")\n",
    "for i, items in enumerate(list_1):\n",
    "    print(i, \":\", items)\n",
    "\n"
   ]
  },
  {
   "cell_type": "code",
   "execution_count": 21,
   "metadata": {},
   "outputs": [
    {
     "data": {
      "text/plain": [
       "'This is another example string'"
      ]
     },
     "execution_count": 21,
     "metadata": {},
     "output_type": "execute_result"
    }
   ],
   "source": [
    "from functools import wraps\n",
    "\n",
    "# Writing my first decorator function\n",
    "def modify_text(func):\n",
    "    @wraps(func)\n",
    "    def wrapper_func():\n",
    "        new_text = func().split(\" \")\n",
    "        return new_text\n",
    "    return wrapper_func\n",
    "\n",
    "@modify_text\n",
    "def text(string):\n",
    "    ''' This fucntion will ordinarily return a string. But with the modify_text decorator function,\n",
    "    it will return a list '''\n",
    "    return string\n",
    "\n",
    "# text = modify_text(text())\n",
    "# print(text(\"This is an example string with the decorator function applied\"))\n",
    "\n",
    "# split_text = modify_text(text())\n",
    "# print(split_text())\n",
    "# help(staticmethod)\n",
    "\n",
    "# accessing the original function without the decorator functionality\n",
    "text.__wrapped__(\"This is another example string\")\n",
    "# text.__doc__()\n",
    "\n",
    "\n",
    "\n"
   ]
  },
  {
   "cell_type": "code",
   "execution_count": 1,
   "metadata": {},
   "outputs": [
    {
     "name": "stdout",
     "output_type": "stream",
     "text": [
      "1 2\n",
      "3\n",
      "4\n",
      "name = Emmmanuel\n",
      "Age = 22\n",
      "Help on function print_arguments in module __main__:\n",
      "\n",
      "print_arguments(a: str, b: str, *args: str, **kwargs: str)\n",
      "\n"
     ]
    },
    {
     "data": {
      "text/plain": [
       "function"
      ]
     },
     "execution_count": 1,
     "metadata": {},
     "output_type": "execute_result"
    }
   ],
   "source": [
    "# Using *args and **kwargs in a function\n",
    "\n",
    "def print_arguments(a:str, b:str, *args:str, **kwargs:str):\n",
    "    print(a, b)\n",
    "    for arg in args:\n",
    "        print(arg)\n",
    "    for key in kwargs:\n",
    "        print(key, \"=\", kwargs[key])\n",
    "\n",
    "print_arguments(1, 2, 3, 4, name='Emmmanuel', Age=22)\n",
    "\n",
    "help(print_arguments)\n",
    "print_arguments.__annotations__\n",
    "type(print_arguments)\n",
    "# help(isinstance, list)"
   ]
  },
  {
   "cell_type": "code",
   "execution_count": 71,
   "metadata": {},
   "outputs": [
    {
     "data": {
      "text/plain": [
       "{'a': 4, 'b': 2, 'c': 3, 'e': 5, 'f': 6}"
      ]
     },
     "execution_count": 71,
     "metadata": {},
     "output_type": "execute_result"
    }
   ],
   "source": [
    "# Unpacking lists and tuples using *\n",
    "tuple_a = (1, 2, 3)\n",
    "list_a = [4, 5, 6]\n",
    "\n",
    "new_list = [*tuple_a, *list_a] # unpacking the list and tuple into a new list\n",
    "new_list = [tuple_a, list_a]\n",
    "new_list\n",
    "\n",
    "# Merging dictionaries using **\n",
    "dict_a = {'a':1, 'b':2, 'c':3}\n",
    "dict_b = {'a':4, 'e':5, 'f':6}\n",
    "\n",
    "new_dict = {**dict_a, **dict_b}\n",
    "# new_dict\n",
    "\n",
    "dict_a | dict_b\n",
    "dict_a.update(dict_b)\n",
    "dict_a"
   ]
  },
  {
   "cell_type": "code",
   "execution_count": 77,
   "metadata": {},
   "outputs": [
    {
     "name": "stdout",
     "output_type": "stream",
     "text": [
      "[1, 4, 5]\n",
      "[3, 1, 4, 5]\n"
     ]
    }
   ],
   "source": [
    "# Returning multiple values from a fucntion\n",
    "\n",
    "def yo(a, b, c):\n",
    "    return a, b, c # this function actually returns a tuple\n",
    "\n",
    "a, b, c = yo(2, 3, 4)\n",
    "a\n",
    "\n",
    "org = [1, 4, 5]\n",
    "org_cpy = org.copy()\n",
    "org_cpy.insert(0, 3)\n",
    "print(org)\n",
    "print(org_cpy)\n"
   ]
  },
  {
   "cell_type": "code",
   "execution_count": 1,
   "metadata": {},
   "outputs": [],
   "source": [
    "import antigravity"
   ]
  },
  {
   "cell_type": "code",
   "execution_count": 5,
   "metadata": {},
   "outputs": [
    {
     "data": {
      "text/plain": [
       "'The page you requested is not found on the server'"
      ]
     },
     "execution_count": 5,
     "metadata": {},
     "output_type": "execute_result"
    }
   ],
   "source": [
    "def http_error(status):\n",
    "    match status:\n",
    "        case 400:\n",
    "            return \"Bad request\"\n",
    "        case 404:\n",
    "            return \"The page you requested is not found on the server\"\n",
    "        case 418:\n",
    "            return \"I'm a teapot\"\n",
    "        case _:\n",
    "            return \"Something's wrong with the internet\"\n",
    "\n",
    "http_error(404)"
   ]
  },
  {
   "cell_type": "markdown",
   "metadata": {},
   "source": [
    "This is markdown\n",
    "> hello\n",
    "Here is another line\n",
    "\n",
    "> World!\n",
    "\n",
    "This is an `inline code`\n",
    "\n",
    "```diff\n",
    "- for i in range(10):\n",
    "-     print(i)\n",
    "+ for i in range(10):\n",
    "+     print(\"i = \" + i)\n",
    "```\n",
    "\n",
    "Here is google link [google](https://www.google.com)\n",
    "\n",
    "Here is an image![image]('20210101_185235.jpg')\n",
    "\n",
    "here is a list of items\n",
    "\n",
    "* item1\n",
    "* item2\n",
    "* item3\n",
    "* item4\n",
    "  * item4.1\n",
    "\n",
    "here is a number bullet\n",
    "1. one\n",
    "1. two\n",
    "1. three\n",
    "1. four\n",
    "1. five\n",
    "\n",
    "here, i'll use HTML to bold this <strong>text</strong>\n",
    "<p>This is a paragraph</p>\n",
    "<p>using html to italicize <em>text</em></p>\n",
    "\n"
   ]
  },
  {
   "cell_type": "code",
   "execution_count": 1,
   "metadata": {},
   "outputs": [],
   "source": [
    "import flask"
   ]
  }
 ],
 "metadata": {
  "interpreter": {
   "hash": "8eede22598bfb2ec59ca93270f7144183cecbe045428b25fd92150a347eec21f"
  },
  "kernelspec": {
   "display_name": "Python 3.10.4 64-bit",
   "language": "python",
   "name": "python3"
  },
  "language_info": {
   "codemirror_mode": {
    "name": "ipython",
    "version": 3
   },
   "file_extension": ".py",
   "mimetype": "text/x-python",
   "name": "python",
   "nbconvert_exporter": "python",
   "pygments_lexer": "ipython3",
   "version": "3.10.5"
  },
  "orig_nbformat": 4
 },
 "nbformat": 4,
 "nbformat_minor": 2
}
