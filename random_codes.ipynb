{
 "cells": [
  {
   "cell_type": "code",
   "execution_count": 74,
   "metadata": {},
   "outputs": [
    {
     "name": "stdout",
     "output_type": "stream",
     "text": [
      "<module 'tensorflow._api.v2.version' from 'c:\\\\Users\\\\Latitude E7270\\\\AppData\\\\Local\\\\Programs\\\\Python\\\\Python39\\\\lib\\\\site-packages\\\\tensorflow\\\\_api\\\\v2\\\\version\\\\__init__.py'>\n"
     ]
    },
    {
     "data": {
      "text/plain": [
       "<reversed at 0x22d5d8b2d00>"
      ]
     },
     "execution_count": 74,
     "metadata": {},
     "output_type": "execute_result"
    }
   ],
   "source": [
    "import tensorflow as tf\n",
    "print(tf.version)\n",
    "\n",
    "# print(dir(tf))\n",
    "\n",
    "# reversing a string\n",
    "string = \"Emmanuel\"\n",
    "\n",
    "\n"
   ]
  },
  {
   "cell_type": "code",
   "execution_count": 2,
   "metadata": {},
   "outputs": [
    {
     "data": {
      "text/plain": [
       "263130836933693530167218012160000000"
      ]
     },
     "execution_count": 2,
     "metadata": {},
     "output_type": "execute_result"
    }
   ],
   "source": [
    "# calculating factorials using recursion\n",
    "\n",
    "def factorial(n):\n",
    "    if n == 1 or n == 0:\n",
    "        return 1\n",
    "    else:\n",
    "        return (n*factorial(n-1))\n",
    "\n",
    "factorial(32)\n",
    "\n"
   ]
  },
  {
   "cell_type": "code",
   "execution_count": 81,
   "metadata": {},
   "outputs": [
    {
     "name": "stdout",
     "output_type": "stream",
     "text": [
      "init for Security Device\n",
      "<class '__main__.SecurityDevice'>\n",
      "<__main__.Sensor object at 0x000002898C218C40>\n",
      "Resetting Camera...\n",
      "Resetting Accelerometer...\n",
      "Counter({'9': 11, '7': 10, '6': 9, '5': 7, '2': 6, '4': 5, '8': 5, '3': 4, '0': 4, '-': 3})\n",
      "dict_keys(['7', '4', '9', '2', '3', '8', '6', '5', '0', '-'])\n",
      "Comparing the frequency with the maximum number\n",
      "New maximun number 0\n",
      "10\n",
      "7 is the number with the highest frequency\n",
      "Comparing the frequency with the maximum number\n",
      "New maximun number 10\n",
      "11\n",
      "9 is the number with the highest frequency\n"
     ]
    }
   ],
   "source": [
    "# OOP practice\n",
    "\n",
    "class SecurityDevice():\n",
    "    # creating an active variable\n",
    "    def __init__(self, name, active):\n",
    "        print(\"init for Security Device\")\n",
    "        self.name = name\n",
    "        self.active = active\n",
    "\n",
    "    def reset(self):\n",
    "        ''' this will reset the active status to True if it is False'''\n",
    "        print(f\"Resetting {self.name}...\")\n",
    "        self.active = True\n",
    "\n",
    "# Here, the Sensor class is inheriting from the SecurityDevice Class \n",
    "class Sensor(SecurityDevice):\n",
    "    def __init__(self, name, silent, distance):\n",
    "        self.name = name\n",
    "        self.silent = silent\n",
    "        self.distance = distance\n",
    "\n",
    "security_device = SecurityDevice(\"Camera\", False)\n",
    "print(SecurityDevice)\n",
    "\n",
    "sensor = Sensor(\"Accelerometer\", False, 30)\n",
    "print(sensor)\n",
    "\n",
    "security_device.reset()\n",
    "sensor.reset()\n",
    "\n",
    "type(sensor)\n",
    "type(security_device)\n",
    "isinstance([], list)\n",
    "\n",
    "# help(isinstance)\n",
    "issubclass(Sensor, object)\n",
    "\n",
    "# help(object)\n",
    "\n",
    "\n",
    "from collections import Counter\n",
    "\n",
    "nums = \"7492397986539672075627957-2486-4705979485967824-8692670350969536\"\n",
    "\n",
    "count = Counter(nums)\n",
    "print(count)\n",
    "\n",
    "maxm = 0\n",
    "mxm_num = 0\n",
    "\n",
    "print(count.keys())\n",
    "\n",
    "for x in count.keys():\n",
    "    if count[x] >= maxm:\n",
    "        print(\"Comparing the frequency with the maximum number\")\n",
    "        print(f\"New maximun number {maxm}\")\n",
    "        maxm = count[x]\n",
    "        mxm_num = int(x)\n",
    "        print(maxm)\n",
    "        print(f\"{mxm_num} is the number with the highest frequency\")\n",
    "\n",
    "# for x in list(count.keys):\n",
    "#     if count[x] >= maxm:"
   ]
  },
  {
   "cell_type": "code",
   "execution_count": 49,
   "metadata": {},
   "outputs": [
    {
     "name": "stdout",
     "output_type": "stream",
     "text": [
      "1\n",
      "4\n",
      "7\n",
      "1\n",
      "2\n",
      "3\n",
      "4\n",
      "5\n",
      "6\n",
      "7\n",
      "8\n",
      "None\n"
     ]
    }
   ],
   "source": [
    "l = [5, 6, 7, 'Emmanuel']\n",
    "\n",
    "name = l.pop(3)\n",
    "l[-1]\n",
    "l[len(l)-1]\n",
    "l[len(l)-2]\n",
    "import re\n",
    "\n",
    "r = re.match(r\"[a-zA-Z0-9 ]+\", \"Emmanuel is 23\")\n",
    "r\n",
    "\n",
    "\"big\" > \"small\"\n",
    "\n",
    "# %%time\n",
    "for x in range(1, 10, 3):\n",
    "    print(x)\n",
    "\n",
    "# %who\n",
    "# %env\n",
    "\n",
    "string = \"Emmanuel\"\n",
    "\n",
    "count = 0\n",
    "for i in string:\n",
    "    count += 1\n",
    "    print(count)\n",
    "\n",
    "len(string)\n",
    "\n",
    "sum = 8\n",
    "\n",
    "list1 = [1,2,3,9]\n",
    "list2 = [1,2,4,4]\n",
    "\n",
    "def random_func(a):\n",
    "    for x in a:\n",
    "        for y in a:\n",
    "            # num = []\n",
    "            if x + y == sum:\n",
    "                b = f\"Yes: {x}, {y} = {x + y}\"\n",
    "                # print(b)\n",
    "                # return True\n",
    "                # num.append(x)\n",
    "            else:\n",
    "                e = f\"No: {x}, {y} = {x + y}\"\n",
    "                # print(e)\n",
    "            \n",
    "\n",
    "a = random_func(list2)\n",
    "print(a, sep=\" \")"
   ]
  },
  {
   "cell_type": "code",
   "execution_count": 31,
   "metadata": {},
   "outputs": [
    {
     "name": "stdout",
     "output_type": "stream",
     "text": [
      "Emma\n",
      "None\n"
     ]
    },
    {
     "data": {
      "text/plain": [
       "NoneType"
      ]
     },
     "execution_count": 31,
     "metadata": {},
     "output_type": "execute_result"
    }
   ],
   "source": [
    "''' What I tried to do here is to basically check the value of a function without a return function.\n",
    "It automatically returns None when it is not explicitly told to return any value. For example, below is a code \n",
    "that assigns a function to a variable and then checks the value that was actually assigned to the variable, In \n",
    "this case it was none after we checked the class using the __class__ method.\n",
    "'''\n",
    "\n",
    "def print_name():\n",
    "    print(\"Emma\")\n",
    "\n",
    "name = print_name()\n",
    "print(name)\n",
    "\n",
    "name.__class__"
   ]
  },
  {
   "cell_type": "code",
   "execution_count": 5,
   "metadata": {},
   "outputs": [
    {
     "name": "stdout",
     "output_type": "stream",
     "text": [
      "46\n"
     ]
    },
    {
     "data": {
      "text/plain": [
       "46"
      ]
     },
     "execution_count": 5,
     "metadata": {},
     "output_type": "execute_result"
    }
   ],
   "source": [
    "# Using two different methods to sum a list of numbers\n",
    "a = [2, 4, 5, 6, 5, 7, 8, 9]\n",
    "\n",
    "total = 0\n",
    "\n",
    "# Using a for loop to sum an array of numbers\n",
    "for num in a:\n",
    "    total += num\n",
    "\n",
    "# Using the builtin sum function, which is way more shorter and easier\n",
    "print(sum(a))\n",
    "total"
   ]
  },
  {
   "cell_type": "code",
   "execution_count": 35,
   "metadata": {},
   "outputs": [
    {
     "data": {
      "text/plain": [
       "'This function would validate a username if it passes certain criteria '"
      ]
     },
     "execution_count": 35,
     "metadata": {},
     "output_type": "execute_result"
    }
   ],
   "source": [
    "#Writng a function with the assert statement\n",
    "\n",
    "def validate_user(username, minlen):\n",
    "    '''This function would validate a username if it passes certain criteria '''\n",
    "\n",
    "    # this assert statement makes sure that the username is a string, else it would raise an Error.\n",
    "    assert type(username) == str, \"username must be a string\"\n",
    "    if len(username) < minlen:\n",
    "        return False, f\"Username is less than {minlen}\"\n",
    "    if not username.isalnum():\n",
    "        return False, \"Username is not alphanumeric\"\n",
    "\n",
    "    return True\n",
    "\n",
    "validate_user('Emmanuel1705', 8)\n",
    "validate_user.__doc__"
   ]
  },
  {
   "cell_type": "code",
   "execution_count": 38,
   "metadata": {},
   "outputs": [
    {
     "name": "stdout",
     "output_type": "stream",
     "text": [
      "{'0': 0, '1': 2, '2': 4, '3': 6, '4': 8}\n"
     ]
    }
   ],
   "source": [
    "d = {}\n",
    "\n",
    "# Creating s dictionary with for loop\n",
    "for i in range(5):\n",
    "    for j in range(3):\n",
    "        d[f'{i}'] = i*j\n",
    "print(d)"
   ]
  },
  {
   "cell_type": "code",
   "execution_count": 17,
   "metadata": {},
   "outputs": [
    {
     "name": "stdout",
     "output_type": "stream",
     "text": [
      "[1 3 4 5 6 7]\n",
      "[1, 3, 4, 5, 6, 7]\n",
      "4\n",
      "19\n",
      "The time with lists is:, 0.38\n",
      "The time with numpy arrays is:, 0.002\n",
      "Nothing done.\n"
     ]
    },
    {
     "name": "stdout",
     "output_type": "stream",
     "text": [
      "BytesWarning\n",
      "DeprecationWarning\n",
      "FutureWarning\n",
      "ImportWarning\n",
      "PendingDeprecationWarning\n",
      "ResourceWarning\n",
      "RuntimeWarning\n",
      "SyntaxWarning\n",
      "UnicodeWarning\n",
      "UserWarning\n",
      "Warning"
     ]
    }
   ],
   "source": [
    "import numpy as np\n",
    "import os\n",
    "from timeit import default_timer as timer\n",
    "\n",
    "num = [1, 3, 4, 5, 6, 7]\n",
    "# os.path.getsize(num)\n",
    "array = np.array(num)\n",
    "print(array)\n",
    "print(num)\n",
    "\n",
    "#broacasting adds a number to all the elements of a numpy array\n",
    "array2 = array + np.array([5])\n",
    "array2\n",
    "\n",
    "# Dot product = (4*1) + (3*5)\n",
    "a = np.array([1, 3])\n",
    "b = np.array([4, 5])\n",
    "\n",
    "# method 1\n",
    "np.dot(a, b) \n",
    "# method 2\n",
    "a @ b \n",
    "# method 3\n",
    "c = a * b  # -> array([4, 15])\n",
    "np.sum(c) # -> 4 + 15\n",
    "# method 4 -> more cumbersome\n",
    "# iterating through the array and multiplying their elements, then adding the value of each multiplication\n",
    "# to a variable\n",
    "dot = 0\n",
    "for i in range(len(a)):\n",
    "    dot += a[i] * b[i]\n",
    "    print(dot)\n",
    "# method 5\n",
    "a.dot(b)\n",
    "# method 6\n",
    "(a*b).sum()\n",
    "\n",
    "a = np.random.randn(1000)\n",
    "b = np.random.randn(1000)\n",
    "\n",
    "A = list(a)\n",
    "B = list(b)\n",
    "\n",
    "T = 1000\n",
    "\n",
    "def dot1():\n",
    "    dot = 0\n",
    "    for i in range(len(A)):\n",
    "        result = A[i] * B[i]\n",
    "        dot += result\n",
    "    return dot\n",
    "\n",
    "def dot2():\n",
    "    return np.dot(a, b)\n",
    "\n",
    "# getting the time for the list\n",
    "start = timer()\n",
    "for t in range(T):\n",
    "    dot1()\n",
    "end = timer()\n",
    "t1 = end - start\n",
    "\n",
    "# getting the time for the array\n",
    "start = timer()\n",
    "for t in range(T):\n",
    "    dot2()\n",
    "end = timer()\n",
    "t2 = end - start\n",
    "\n",
    "print(f\"The time with lists is:, {round(t1, 3)}\")\n",
    "print(f\"The time with numpy arrays is:, {round(t2, 3)}\")\n",
    "\n",
    "t1/t2\n",
    "\n",
    "len??\n",
    "\n",
    "*Warning?\n",
    "\n",
    "# %timeit [i**i for i in range(100)]\n",
    "\n",
    "# Ipython magic functions\n",
    "%pwd\n",
    "\n",
    "%reset\n",
    "\n"
   ]
  },
  {
   "cell_type": "code",
   "execution_count": 6,
   "metadata": {},
   "outputs": [
    {
     "data": {
      "text/plain": [
       "<folium.map.Marker at 0x2e263324400>"
      ]
     },
     "execution_count": 6,
     "metadata": {},
     "output_type": "execute_result"
    }
   ],
   "source": [
    "import folium\n",
    "\n",
    "canada_map = folium.Map(location=[56.130, -106.35],zoom_start=3)\n",
    "# canada_map\n",
    "ontario = folium.map.FeatureGroup()\n",
    "ontario.add_child(folium.features.CircleMarker([56.130, -106.35],\n",
    "                                                radius = 5, color = 'red',\n",
    "                                                fill_color = 'red'))\n",
    "\n",
    "folium.Marker([56.130, -106.35], popup='Ontario').add_to(canada_map)                                              \n",
    "\n",
    "# canada_map.add_child(ontario)\n",
    "\n",
    "# canada_map"
   ]
  },
  {
   "cell_type": "code",
   "execution_count": null,
   "metadata": {},
   "outputs": [],
   "source": []
  }
 ],
 "metadata": {
  "interpreter": {
   "hash": "886d6ad25d77afbadc6bb9d97f85f55ceeef83a723000dfa0388dd4adc350846"
  },
  "kernelspec": {
   "display_name": "Python 3.9.2 64-bit",
   "language": "python",
   "name": "python3"
  },
  "language_info": {
   "codemirror_mode": {
    "name": "ipython",
    "version": 3
   },
   "file_extension": ".py",
   "mimetype": "text/x-python",
   "name": "python",
   "nbconvert_exporter": "python",
   "pygments_lexer": "ipython3",
   "version": "3.9.2"
  },
  "orig_nbformat": 4
 },
 "nbformat": 4,
 "nbformat_minor": 2
}
