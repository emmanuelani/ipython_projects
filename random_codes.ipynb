{
 "cells": [
  {
   "cell_type": "code",
   "execution_count": 1,
   "metadata": {},
   "outputs": [
    {
     "name": "stdout",
     "output_type": "stream",
     "text": [
      "<module 'tensorflow._api.v2.version' from 'c:\\\\Users\\\\Latitude E7270\\\\AppData\\\\Local\\\\Programs\\\\Python\\\\Python310\\\\lib\\\\site-packages\\\\tensorflow\\\\_api\\\\v2\\\\version\\\\__init__.py'>\n"
     ]
    }
   ],
   "source": [
    "import tensorflow as tf\n",
    "print(tf.version)\n",
    "\n",
    "# print(dir(tf))\n",
    "\n",
    "# reversing a string\n",
    "string = \"Emmanuel\"\n",
    "\n",
    "\n"
   ]
  },
  {
   "cell_type": "code",
   "execution_count": 2,
   "metadata": {},
   "outputs": [
    {
     "data": {
      "text/plain": [
       "263130836933693530167218012160000000"
      ]
     },
     "execution_count": 2,
     "metadata": {},
     "output_type": "execute_result"
    }
   ],
   "source": [
    "# calculating factorials using recursion\n",
    "\n",
    "def factorial(n):\n",
    "    if n == 1 or n == 0:\n",
    "        return 1\n",
    "    else:\n",
    "        return (n*factorial(n-1))\n",
    "\n",
    "factorial(32)\n",
    "\n"
   ]
  },
  {
   "cell_type": "code",
   "execution_count": 81,
   "metadata": {},
   "outputs": [
    {
     "name": "stdout",
     "output_type": "stream",
     "text": [
      "init for Security Device\n",
      "<class '__main__.SecurityDevice'>\n",
      "<__main__.Sensor object at 0x000002898C218C40>\n",
      "Resetting Camera...\n",
      "Resetting Accelerometer...\n",
      "Counter({'9': 11, '7': 10, '6': 9, '5': 7, '2': 6, '4': 5, '8': 5, '3': 4, '0': 4, '-': 3})\n",
      "dict_keys(['7', '4', '9', '2', '3', '8', '6', '5', '0', '-'])\n",
      "Comparing the frequency with the maximum number\n",
      "New maximun number 0\n",
      "10\n",
      "7 is the number with the highest frequency\n",
      "Comparing the frequency with the maximum number\n",
      "New maximun number 10\n",
      "11\n",
      "9 is the number with the highest frequency\n"
     ]
    }
   ],
   "source": [
    "# OOP practice\n",
    "\n",
    "class SecurityDevice():\n",
    "    # creating an active variable\n",
    "    def __init__(self, name, active):\n",
    "        print(\"init for Security Device\")\n",
    "        self.name = name\n",
    "        self.active = active\n",
    "\n",
    "    def reset(self):\n",
    "        ''' this will reset the active status to True if it is False'''\n",
    "        print(f\"Resetting {self.name}...\")\n",
    "        self.active = True\n",
    "\n",
    "# Here, the Sensor class is inheriting from the SecurityDevice Class \n",
    "class Sensor(SecurityDevice):\n",
    "    def __init__(self, name, silent, distance):\n",
    "        self.name = name\n",
    "        self.silent = silent\n",
    "        self.distance = distance\n",
    "\n",
    "security_device = SecurityDevice(\"Camera\", False)\n",
    "print(SecurityDevice)\n",
    "\n",
    "sensor = Sensor(\"Accelerometer\", False, 30)\n",
    "print(sensor)\n",
    "\n",
    "security_device.reset()\n",
    "sensor.reset()\n",
    "\n",
    "type(sensor)\n",
    "type(security_device)\n",
    "isinstance([], list)\n",
    "\n",
    "# help(isinstance)\n",
    "issubclass(Sensor, object)\n",
    "\n",
    "# help(object)\n",
    "\n",
    "\n",
    "from collections import Counter\n",
    "\n",
    "nums = \"7492397986539672075627957-2486-4705979485967824-8692670350969536\"\n",
    "\n",
    "count = Counter(nums)\n",
    "print(count)\n",
    "\n",
    "maxm = 0\n",
    "mxm_num = 0\n",
    "\n",
    "print(count.keys())\n",
    "\n",
    "for x in count.keys():\n",
    "    if count[x] >= maxm:\n",
    "        print(\"Comparing the frequency with the maximum number\")\n",
    "        print(f\"New maximun number {maxm}\")\n",
    "        maxm = count[x]\n",
    "        mxm_num = int(x)\n",
    "        print(maxm)\n",
    "        print(f\"{mxm_num} is the number with the highest frequency\")\n",
    "\n",
    "# for x in list(count.keys):\n",
    "#     if count[x] >= maxm:"
   ]
  },
  {
   "cell_type": "code",
   "execution_count": 49,
   "metadata": {},
   "outputs": [
    {
     "name": "stdout",
     "output_type": "stream",
     "text": [
      "1\n",
      "4\n",
      "7\n",
      "1\n",
      "2\n",
      "3\n",
      "4\n",
      "5\n",
      "6\n",
      "7\n",
      "8\n",
      "None\n"
     ]
    }
   ],
   "source": [
    "l = [5, 6, 7, 'Emmanuel']\n",
    "\n",
    "name = l.pop(3)\n",
    "l[-1]\n",
    "l[len(l)-1]\n",
    "l[len(l)-2]\n",
    "import re\n",
    "\n",
    "r = re.match(r\"[a-zA-Z0-9 ]+\", \"Emmanuel is 23\")\n",
    "r\n",
    "\n",
    "\"big\" > \"small\"\n",
    "\n",
    "# %%time\n",
    "for x in range(1, 10, 3):\n",
    "    print(x)\n",
    "\n",
    "# %who\n",
    "# %env\n",
    "\n",
    "string = \"Emmanuel\"\n",
    "\n",
    "count = 0\n",
    "for i in string:\n",
    "    count += 1\n",
    "    print(count)\n",
    "\n",
    "len(string)\n",
    "\n",
    "sum = 8\n",
    "\n",
    "list1 = [1,2,3,9]\n",
    "list2 = [1,2,4,4]\n",
    "\n",
    "def random_func(a):\n",
    "    for x in a:\n",
    "        for y in a:\n",
    "            # num = []\n",
    "            if x + y == sum:\n",
    "                b = f\"Yes: {x}, {y} = {x + y}\"\n",
    "                # print(b)\n",
    "                # return True\n",
    "                # num.append(x)\n",
    "            else:\n",
    "                e = f\"No: {x}, {y} = {x + y}\"\n",
    "                # print(e)\n",
    "            \n",
    "\n",
    "a = random_func(list2)\n",
    "print(a, sep=\" \")"
   ]
  },
  {
   "cell_type": "code",
   "execution_count": 31,
   "metadata": {},
   "outputs": [
    {
     "name": "stdout",
     "output_type": "stream",
     "text": [
      "Emma\n",
      "None\n"
     ]
    },
    {
     "data": {
      "text/plain": [
       "NoneType"
      ]
     },
     "execution_count": 31,
     "metadata": {},
     "output_type": "execute_result"
    }
   ],
   "source": [
    "''' What I tried to do here is to basically check the value of a function without a return function.\n",
    "It automatically returns None when it is not explicitly told to return any value. For example, below is a code \n",
    "that assigns a function to a variable and then checks the value that was actually assigned to the variable, In \n",
    "this case it was none after we checked the class using the __class__ method.\n",
    "'''\n",
    "\n",
    "def print_name():\n",
    "    print(\"Emma\")\n",
    "\n",
    "name = print_name()\n",
    "print(name)\n",
    "\n",
    "name.__class__"
   ]
  },
  {
   "cell_type": "code",
   "execution_count": 5,
   "metadata": {},
   "outputs": [
    {
     "name": "stdout",
     "output_type": "stream",
     "text": [
      "46\n"
     ]
    },
    {
     "data": {
      "text/plain": [
       "46"
      ]
     },
     "execution_count": 5,
     "metadata": {},
     "output_type": "execute_result"
    }
   ],
   "source": [
    "# Using two different methods to sum a list of numbers\n",
    "a = [2, 4, 5, 6, 5, 7, 8, 9]\n",
    "\n",
    "total = 0\n",
    "\n",
    "# Using a for loop to sum an array of numbers\n",
    "for num in a:\n",
    "    total += num\n",
    "\n",
    "# Using the builtin sum function, which is way more shorter and easier\n",
    "print(sum(a))\n",
    "total"
   ]
  },
  {
   "cell_type": "code",
   "execution_count": 35,
   "metadata": {},
   "outputs": [
    {
     "data": {
      "text/plain": [
       "'This function would validate a username if it passes certain criteria '"
      ]
     },
     "execution_count": 35,
     "metadata": {},
     "output_type": "execute_result"
    }
   ],
   "source": [
    "#Writng a function with the assert statement\n",
    "\n",
    "def validate_user(username, minlen):\n",
    "    '''This function would validate a username if it passes certain criteria '''\n",
    "\n",
    "    # this assert statement makes sure that the username is a string, else it would raise an Error.\n",
    "    assert type(username) == str, \"username must be a string\"\n",
    "    if len(username) < minlen:\n",
    "        return False, f\"Username is less than {minlen}\"\n",
    "    if not username.isalnum():\n",
    "        return False, \"Username is not alphanumeric\"\n",
    "\n",
    "    return True\n",
    "\n",
    "validate_user('Emmanuel1705', 8)\n",
    "validate_user.__doc__"
   ]
  },
  {
   "cell_type": "code",
   "execution_count": 38,
   "metadata": {},
   "outputs": [
    {
     "name": "stdout",
     "output_type": "stream",
     "text": [
      "{'0': 0, '1': 2, '2': 4, '3': 6, '4': 8}\n"
     ]
    }
   ],
   "source": [
    "d = {}\n",
    "\n",
    "# Creating s dictionary with for loop\n",
    "for i in range(5):\n",
    "    for j in range(3):\n",
    "        d[f'{i}'] = i*j\n",
    "print(d)"
   ]
  },
  {
   "cell_type": "code",
   "execution_count": 17,
   "metadata": {},
   "outputs": [
    {
     "name": "stdout",
     "output_type": "stream",
     "text": [
      "[1 3 4 5 6 7]\n",
      "[1, 3, 4, 5, 6, 7]\n",
      "4\n",
      "19\n",
      "The time with lists is:, 0.38\n",
      "The time with numpy arrays is:, 0.002\n",
      "Nothing done.\n"
     ]
    },
    {
     "name": "stdout",
     "output_type": "stream",
     "text": [
      "BytesWarning\n",
      "DeprecationWarning\n",
      "FutureWarning\n",
      "ImportWarning\n",
      "PendingDeprecationWarning\n",
      "ResourceWarning\n",
      "RuntimeWarning\n",
      "SyntaxWarning\n",
      "UnicodeWarning\n",
      "UserWarning\n",
      "Warning"
     ]
    }
   ],
   "source": [
    "import numpy as np\n",
    "import os\n",
    "from timeit import default_timer as timer\n",
    "\n",
    "num = [1, 3, 4, 5, 6, 7]\n",
    "# os.path.getsize(num)\n",
    "array = np.array(num)\n",
    "print(array)\n",
    "print(num)\n",
    "\n",
    "#broacasting adds a number to all the elements of a numpy array\n",
    "array2 = array + np.array([5])\n",
    "array2\n",
    "\n",
    "# Dot product = (4*1) + (3*5)\n",
    "a = np.array([1, 3])\n",
    "b = np.array([4, 5])\n",
    "\n",
    "# method 1\n",
    "np.dot(a, b) \n",
    "# method 2\n",
    "a @ b \n",
    "# method 3\n",
    "c = a * b  # -> array([4, 15])\n",
    "np.sum(c) # -> 4 + 15\n",
    "# method 4 -> more cumbersome\n",
    "# iterating through the array and multiplying their elements, then adding the value of each multiplication\n",
    "# to a variable\n",
    "dot = 0\n",
    "for i in range(len(a)):\n",
    "    dot += a[i] * b[i]\n",
    "    print(dot)\n",
    "# method 5\n",
    "a.dot(b)\n",
    "# method 6\n",
    "(a*b).sum()\n",
    "\n",
    "a = np.random.randn(1000)\n",
    "b = np.random.randn(1000)\n",
    "\n",
    "A = list(a)\n",
    "B = list(b)\n",
    "\n",
    "T = 1000\n",
    "\n",
    "def dot1():\n",
    "    dot = 0\n",
    "    for i in range(len(A)):\n",
    "        result = A[i] * B[i]\n",
    "        dot += result\n",
    "    return dot\n",
    "\n",
    "def dot2():\n",
    "    return np.dot(a, b)\n",
    "\n",
    "# getting the time for the list\n",
    "start = timer()\n",
    "for t in range(T):\n",
    "    dot1()\n",
    "end = timer()\n",
    "t1 = end - start\n",
    "\n",
    "# getting the time for the array\n",
    "start = timer()\n",
    "for t in range(T):\n",
    "    dot2()\n",
    "end = timer()\n",
    "t2 = end - start\n",
    "\n",
    "print(f\"The time with lists is:, {round(t1, 3)}\")\n",
    "print(f\"The time with numpy arrays is:, {round(t2, 3)}\")\n",
    "\n",
    "t1/t2\n",
    "\n",
    "len??\n",
    "\n",
    "*Warning?\n",
    "\n",
    "# %timeit [i**i for i in range(100)]\n",
    "\n",
    "# Ipython magic functions\n",
    "%pwd\n",
    "\n",
    "%reset\n",
    "\n"
   ]
  },
  {
   "cell_type": "code",
   "execution_count": 6,
   "metadata": {},
   "outputs": [
    {
     "data": {
      "text/plain": [
       "<folium.map.Marker at 0x2e263324400>"
      ]
     },
     "execution_count": 6,
     "metadata": {},
     "output_type": "execute_result"
    }
   ],
   "source": [
    "import folium\n",
    "\n",
    "canada_map = folium.Map(location=[56.130, -106.35],zoom_start=3)\n",
    "# canada_map\n",
    "ontario = folium.map.FeatureGroup()\n",
    "ontario.add_child(folium.features.CircleMarker([56.130, -106.35],\n",
    "                                                radius = 5, color = 'red',\n",
    "                                                fill_color = 'red'))\n",
    "\n",
    "folium.Marker([56.130, -106.35], popup='Ontario').add_to(canada_map)                                              \n",
    "\n",
    "# canada_map.add_child(ontario)\n",
    "\n",
    "# canada_map"
   ]
  },
  {
   "cell_type": "code",
   "execution_count": 1,
   "metadata": {},
   "outputs": [
    {
     "name": "stdout",
     "output_type": "stream",
     "text": [
      "Dash is running on http://127.0.0.1:8002/\n",
      "\n",
      " * Serving Flask app '__main__' (lazy loading)\n",
      " * Environment: production\n",
      "\u001b[31m   WARNING: This is a development server. Do not use it in a production deployment.\u001b[0m\n",
      "\u001b[2m   Use a production WSGI server instead.\u001b[0m\n",
      " * Debug mode: on\n"
     ]
    },
    {
     "ename": "SystemExit",
     "evalue": "1",
     "output_type": "error",
     "traceback": [
      "An exception has occurred, use %tb to see the full traceback.\n",
      "\u001b[1;31mSystemExit\u001b[0m\u001b[1;31m:\u001b[0m 1\n"
     ]
    },
    {
     "name": "stderr",
     "output_type": "stream",
     "text": [
      "c:\\Users\\Latitude E7270\\AppData\\Local\\Programs\\Python\\Python310\\lib\\site-packages\\IPython\\core\\interactiveshell.py:3406: UserWarning: To exit: use 'exit', 'quit', or Ctrl-D.\n",
      "  warn(\"To exit: use 'exit', 'quit', or Ctrl-D.\", stacklevel=1)\n"
     ]
    }
   ],
   "source": [
    "import dash # used to create web apllications\n",
    "# import dash_html_components as html \n",
    "from dash import html # gives you access to html components \\\n",
    "# import dash_core_components as dcc\n",
    "from dash import dcc\n",
    "\n",
    "# create a dash application\n",
    "app = dash.Dash()\n",
    "\n",
    "# Get the layout of the application and adjust it.\n",
    "# This is the division in our layout and from here we will add elements to teh page\n",
    "app.layout = html.Div([\n",
    "              # Title to our application using HTML, H1 component\n",
    "              html.H1('Data Visualization in Python', \n",
    "              # adding a css style using style parameter which takes input through dictionary\n",
    "              style={'color':'blue', 'fontSize':40,\n",
    "                      'border-style': 'outset'\n",
    "                }),\n",
    "              # Adding dropdown\n",
    "              html.Label('Dropdown'),\n",
    "              dcc.Dropdown(\n",
    "              options=[\n",
    "                  {'label': 'Option 1', 'value': '1'},\n",
    "                  {'label': 'Option 2', 'value': '2'},\n",
    "                  {'label': 'Option 3', 'value': '3'},\n",
    "              ], \n",
    "              value='3'),\n",
    "              # Adding Slider\n",
    "              dcc.Slider(\n",
    "              min=0,\n",
    "              max=5,\n",
    "              marks={i: '{}'.format(i) for i in range(5)},\n",
    "              value=2),\n",
    "\n",
    "              # Adding paragragh component inside layout division\n",
    "              html.P('This video is about dash basics', \n",
    "              style={'fontSize':20\n",
    "              }), \n",
    "              # Creating another division inside the application layout division\n",
    "              html.Div(['This is a new division'],\n",
    "              style={'color':'red', 'fontSize':40,\n",
    "                      'border-style': 'double'\n",
    "                })\n",
    "             ],\n",
    "              style={'border-style': 'ridge', 'border-color': 'yellow'})\n",
    "\n",
    "\n",
    "if __name__ == '__main__':\n",
    "    # Grab the application and run the server\n",
    "    app.run_server(port=8002, host='127.0.0.1', debug=True)\n"
   ]
  },
  {
   "cell_type": "code",
   "execution_count": 13,
   "metadata": {},
   "outputs": [
    {
     "data": {
      "text/plain": [
       "<AxesSubplot:ylabel='Qty'>"
      ]
     },
     "execution_count": 13,
     "metadata": {},
     "output_type": "execute_result"
    },
    {
     "data": {
      "image/png": "[encoded data removed]",
      "image/svg+xml": "<?xml version=\"1.0\" encoding=\"utf-8\" standalone=\"no\"?>\n<!DOCTYPE svg PUBLIC \"-//W3C//DTD SVG 1.1//EN\"\n  \"http://www.w3.org/Graphics/SVG/1.1/DTD/svg11.dtd\">\n<svg xmlns:xlink=\"http://www.w3.org/1999/xlink\" width=\"357.738125pt\" height=\"340.56pt\" viewBox=\"0 0 357.738125 340.56\" xmlns=\"http://www.w3.org/2000/svg\" version=\"1.1\">\n <metadata>\n  <rdf:RDF xmlns:dc=\"http://purl.org/dc/elements/1.1/\" xmlns:cc=\"http://creativecommons.org/ns#\" xmlns:rdf=\"http://www.w3.org/1999/02/22-rdf-syntax-ns#\">\n   <cc:Work>\n    <dc:type rdf:resource=\"http://purl.org/dc/dcmitype/StillImage\"/>\n    <dc:date>2022-07-02T00:27:24.393742</dc:date>\n    <dc:format>image/svg+xml</dc:format>\n    <dc:creator>\n     <cc:Agent>\n      <dc:title>Matplotlib v3.5.2, https://matplotlib.org/</dc:title>\n     </cc:Agent>\n    </dc:creator>\n   </cc:Work>\n  </rdf:RDF>\n </metadata>\n <defs>\n  <style type=\"text/css\">*{stroke-linejoin: round; stroke-linecap: butt}</style>\n </defs>\n <g id=\"figure_1\">\n  <g id=\"patch_1\">\n   <path d=\"M 0 340.56 \nL 357.738125 340.56 \nL 357.738125 0 \nL 0 0 \nL 0 340.56 \nz\n\" style=\"fill: none\"/>\n  </g>\n  <g id=\"axes_1\">\n   <g id=\"patch_2\">\n    <path d=\"M 317.922125 170.28 \nC 317.922125 135.692066 304.167467 102.485383 279.710104 78.028021 \nC 255.252742 53.570658 222.046059 39.816 187.458125 39.816 \nC 152.870191 39.816 119.663508 53.570658 95.206146 78.028021 \nC 70.748783 102.485383 56.994125 135.692066 56.994125 170.28 \nL 187.458125 170.28 \nL 317.922125 170.28 \nz\n\" style=\"fill: #1f77b4\"/>\n   </g>\n   <g id=\"patch_3\">\n    <path d=\"M 56.994125 170.28 \nC 56.994125 190.867574 61.867288 211.165756 71.213851 229.509419 \nC 80.560414 247.853081 94.117616 263.726524 110.773314 275.827596 \nC 127.429011 287.928668 146.714959 295.917168 167.049066 299.137773 \nC 187.383173 302.358378 208.193782 300.720546 227.773727 294.358634 \nL 187.458125 170.28 \nL 56.994125 170.28 \nz\n\" style=\"fill: #ff7f0e\"/>\n   </g>\n   <g id=\"patch_4\">\n    <path d=\"M 227.773727 294.358634 \nC 253.972491 285.846138 276.814 269.250808 293.005725 246.964806 \nC 309.19745 224.678805 317.922128 197.826999 317.922125 170.279988 \nL 187.458125 170.28 \nL 227.773727 294.358634 \nz\n\" style=\"fill: #2ca02c\"/>\n   </g>\n   <g id=\"matplotlib.axis_1\"/>\n   <g id=\"matplotlib.axis_2\">\n    <g id=\"text_1\">\n     <!-- Qty -->\n     <g transform=\"translate(14.798438 179.135469)rotate(-90)scale(0.1 -0.1)\">\n      <defs>\n       <path id=\"DejaVuSans-51\" d=\"M 2522 4238 \nQ 1834 4238 1429 3725 \nQ 1025 3213 1025 2328 \nQ 1025 1447 1429 934 \nQ 1834 422 2522 422 \nQ 3209 422 3611 934 \nQ 4013 1447 4013 2328 \nQ 4013 3213 3611 3725 \nQ 3209 4238 2522 4238 \nz\nM 3406 84 \nL 4238 -825 \nL 3475 -825 \nL 2784 -78 \nQ 2681 -84 2626 -87 \nQ 2572 -91 2522 -91 \nQ 1538 -91 948 567 \nQ 359 1225 359 2328 \nQ 359 3434 948 4092 \nQ 1538 4750 2522 4750 \nQ 3503 4750 4090 4092 \nQ 4678 3434 4678 2328 \nQ 4678 1516 4351 937 \nQ 4025 359 3406 84 \nz\n\" transform=\"scale(0.015625)\"/>\n       <path id=\"DejaVuSans-74\" d=\"M 1172 4494 \nL 1172 3500 \nL 2356 3500 \nL 2356 3053 \nL 1172 3053 \nL 1172 1153 \nQ 1172 725 1289 603 \nQ 1406 481 1766 481 \nL 2356 481 \nL 2356 0 \nL 1766 0 \nQ 1100 0 847 248 \nQ 594 497 594 1153 \nL 594 3053 \nL 172 3053 \nL 172 3500 \nL 594 3500 \nL 594 4494 \nL 1172 4494 \nz\n\" transform=\"scale(0.015625)\"/>\n       <path id=\"DejaVuSans-79\" d=\"M 2059 -325 \nQ 1816 -950 1584 -1140 \nQ 1353 -1331 966 -1331 \nL 506 -1331 \nL 506 -850 \nL 844 -850 \nQ 1081 -850 1212 -737 \nQ 1344 -625 1503 -206 \nL 1606 56 \nL 191 3500 \nL 800 3500 \nL 1894 763 \nL 2988 3500 \nL 3597 3500 \nL 2059 -325 \nz\n\" transform=\"scale(0.015625)\"/>\n      </defs>\n      <use xlink:href=\"#DejaVuSans-51\"/>\n      <use xlink:href=\"#DejaVuSans-74\" x=\"78.710938\"/>\n      <use xlink:href=\"#DejaVuSans-79\" x=\"117.919922\"/>\n     </g>\n    </g>\n   </g>\n   <g id=\"text_2\">\n    <!-- Apple -->\n    <g transform=\"translate(187.458125 29.528975)scale(0.1 -0.1)\">\n     <defs>\n      <path id=\"DejaVuSans-41\" d=\"M 2188 4044 \nL 1331 1722 \nL 3047 1722 \nL 2188 4044 \nz\nM 1831 4666 \nL 2547 4666 \nL 4325 0 \nL 3669 0 \nL 3244 1197 \nL 1141 1197 \nL 716 0 \nL 50 0 \nL 1831 4666 \nz\n\" transform=\"scale(0.015625)\"/>\n      <path id=\"DejaVuSans-70\" d=\"M 1159 525 \nL 1159 -1331 \nL 581 -1331 \nL 581 3500 \nL 1159 3500 \nL 1159 2969 \nQ 1341 3281 1617 3432 \nQ 1894 3584 2278 3584 \nQ 2916 3584 3314 3078 \nQ 3713 2572 3713 1747 \nQ 3713 922 3314 415 \nQ 2916 -91 2278 -91 \nQ 1894 -91 1617 61 \nQ 1341 213 1159 525 \nz\nM 3116 1747 \nQ 3116 2381 2855 2742 \nQ 2594 3103 2138 3103 \nQ 1681 3103 1420 2742 \nQ 1159 2381 1159 1747 \nQ 1159 1113 1420 752 \nQ 1681 391 2138 391 \nQ 2594 391 2855 752 \nQ 3116 1113 3116 1747 \nz\n\" transform=\"scale(0.015625)\"/>\n      <path id=\"DejaVuSans-6c\" d=\"M 603 4863 \nL 1178 4863 \nL 1178 0 \nL 603 0 \nL 603 4863 \nz\n\" transform=\"scale(0.015625)\"/>\n      <path id=\"DejaVuSans-65\" d=\"M 3597 1894 \nL 3597 1613 \nL 953 1613 \nQ 991 1019 1311 708 \nQ 1631 397 2203 397 \nQ 2534 397 2845 478 \nQ 3156 559 3463 722 \nL 3463 178 \nQ 3153 47 2828 -22 \nQ 2503 -91 2169 -91 \nQ 1331 -91 842 396 \nQ 353 884 353 1716 \nQ 353 2575 817 3079 \nQ 1281 3584 2069 3584 \nQ 2775 3584 3186 3129 \nQ 3597 2675 3597 1894 \nz\nM 3022 2063 \nQ 3016 2534 2758 2815 \nQ 2500 3097 2075 3097 \nQ 1594 3097 1305 2825 \nQ 1016 2553 972 2059 \nL 3022 2063 \nz\n\" transform=\"scale(0.015625)\"/>\n     </defs>\n     <use xlink:href=\"#DejaVuSans-41\"/>\n     <use xlink:href=\"#DejaVuSans-70\" x=\"68.408203\"/>\n     <use xlink:href=\"#DejaVuSans-70\" x=\"131.884766\"/>\n     <use xlink:href=\"#DejaVuSans-6c\" x=\"195.361328\"/>\n     <use xlink:href=\"#DejaVuSans-65\" x=\"223.144531\"/>\n    </g>\n   </g>\n   <g id=\"text_3\">\n    <!-- Mango -->\n    <g transform=\"translate(69.543895 289.141731)scale(0.1 -0.1)\">\n     <defs>\n      <path id=\"DejaVuSans-4d\" d=\"M 628 4666 \nL 1569 4666 \nL 2759 1491 \nL 3956 4666 \nL 4897 4666 \nL 4897 0 \nL 4281 0 \nL 4281 4097 \nL 3078 897 \nL 2444 897 \nL 1241 4097 \nL 1241 0 \nL 628 0 \nL 628 4666 \nz\n\" transform=\"scale(0.015625)\"/>\n      <path id=\"DejaVuSans-61\" d=\"M 2194 1759 \nQ 1497 1759 1228 1600 \nQ 959 1441 959 1056 \nQ 959 750 1161 570 \nQ 1363 391 1709 391 \nQ 2188 391 2477 730 \nQ 2766 1069 2766 1631 \nL 2766 1759 \nL 2194 1759 \nz\nM 3341 1997 \nL 3341 0 \nL 2766 0 \nL 2766 531 \nQ 2569 213 2275 61 \nQ 1981 -91 1556 -91 \nQ 1019 -91 701 211 \nQ 384 513 384 1019 \nQ 384 1609 779 1909 \nQ 1175 2209 1959 2209 \nL 2766 2209 \nL 2766 2266 \nQ 2766 2663 2505 2880 \nQ 2244 3097 1772 3097 \nQ 1472 3097 1187 3025 \nQ 903 2953 641 2809 \nL 641 3341 \nQ 956 3463 1253 3523 \nQ 1550 3584 1831 3584 \nQ 2591 3584 2966 3190 \nQ 3341 2797 3341 1997 \nz\n\" transform=\"scale(0.015625)\"/>\n      <path id=\"DejaVuSans-6e\" d=\"M 3513 2113 \nL 3513 0 \nL 2938 0 \nL 2938 2094 \nQ 2938 2591 2744 2837 \nQ 2550 3084 2163 3084 \nQ 1697 3084 1428 2787 \nQ 1159 2491 1159 1978 \nL 1159 0 \nL 581 0 \nL 581 3500 \nL 1159 3500 \nL 1159 2956 \nQ 1366 3272 1645 3428 \nQ 1925 3584 2291 3584 \nQ 2894 3584 3203 3211 \nQ 3513 2838 3513 2113 \nz\n\" transform=\"scale(0.015625)\"/>\n      <path id=\"DejaVuSans-67\" d=\"M 2906 1791 \nQ 2906 2416 2648 2759 \nQ 2391 3103 1925 3103 \nQ 1463 3103 1205 2759 \nQ 947 2416 947 1791 \nQ 947 1169 1205 825 \nQ 1463 481 1925 481 \nQ 2391 481 2648 825 \nQ 2906 1169 2906 1791 \nz\nM 3481 434 \nQ 3481 -459 3084 -895 \nQ 2688 -1331 1869 -1331 \nQ 1566 -1331 1297 -1286 \nQ 1028 -1241 775 -1147 \nL 775 -588 \nQ 1028 -725 1275 -790 \nQ 1522 -856 1778 -856 \nQ 2344 -856 2625 -561 \nQ 2906 -266 2906 331 \nL 2906 616 \nQ 2728 306 2450 153 \nQ 2172 0 1784 0 \nQ 1141 0 747 490 \nQ 353 981 353 1791 \nQ 353 2603 747 3093 \nQ 1141 3584 1784 3584 \nQ 2172 3584 2450 3431 \nQ 2728 3278 2906 2969 \nL 2906 3500 \nL 3481 3500 \nL 3481 434 \nz\n\" transform=\"scale(0.015625)\"/>\n      <path id=\"DejaVuSans-6f\" d=\"M 1959 3097 \nQ 1497 3097 1228 2736 \nQ 959 2375 959 1747 \nQ 959 1119 1226 758 \nQ 1494 397 1959 397 \nQ 2419 397 2687 759 \nQ 2956 1122 2956 1747 \nQ 2956 2369 2687 2733 \nQ 2419 3097 1959 3097 \nz\nM 1959 3584 \nQ 2709 3584 3137 3096 \nQ 3566 2609 3566 1747 \nQ 3566 888 3137 398 \nQ 2709 -91 1959 -91 \nQ 1206 -91 779 398 \nQ 353 888 353 1747 \nQ 353 2609 779 3096 \nQ 1206 3584 1959 3584 \nz\n\" transform=\"scale(0.015625)\"/>\n     </defs>\n     <use xlink:href=\"#DejaVuSans-4d\"/>\n     <use xlink:href=\"#DejaVuSans-61\" x=\"86.279297\"/>\n     <use xlink:href=\"#DejaVuSans-6e\" x=\"147.558594\"/>\n     <use xlink:href=\"#DejaVuSans-67\" x=\"210.9375\"/>\n     <use xlink:href=\"#DejaVuSans-6f\" x=\"274.414062\"/>\n    </g>\n   </g>\n   <g id=\"text_4\">\n    <!-- Orange -->\n    <g transform=\"translate(303.560485 257.392662)scale(0.1 -0.1)\">\n     <defs>\n      <path id=\"DejaVuSans-4f\" d=\"M 2522 4238 \nQ 1834 4238 1429 3725 \nQ 1025 3213 1025 2328 \nQ 1025 1447 1429 934 \nQ 1834 422 2522 422 \nQ 3209 422 3611 934 \nQ 4013 1447 4013 2328 \nQ 4013 3213 3611 3725 \nQ 3209 4238 2522 4238 \nz\nM 2522 4750 \nQ 3503 4750 4090 4092 \nQ 4678 3434 4678 2328 \nQ 4678 1225 4090 567 \nQ 3503 -91 2522 -91 \nQ 1538 -91 948 565 \nQ 359 1222 359 2328 \nQ 359 3434 948 4092 \nQ 1538 4750 2522 4750 \nz\n\" transform=\"scale(0.015625)\"/>\n      <path id=\"DejaVuSans-72\" d=\"M 2631 2963 \nQ 2534 3019 2420 3045 \nQ 2306 3072 2169 3072 \nQ 1681 3072 1420 2755 \nQ 1159 2438 1159 1844 \nL 1159 0 \nL 581 0 \nL 581 3500 \nL 1159 3500 \nL 1159 2956 \nQ 1341 3275 1631 3429 \nQ 1922 3584 2338 3584 \nQ 2397 3584 2469 3576 \nQ 2541 3569 2628 3553 \nL 2631 2963 \nz\n\" transform=\"scale(0.015625)\"/>\n     </defs>\n     <use xlink:href=\"#DejaVuSans-4f\"/>\n     <use xlink:href=\"#DejaVuSans-72\" x=\"78.710938\"/>\n     <use xlink:href=\"#DejaVuSans-61\" x=\"119.824219\"/>\n     <use xlink:href=\"#DejaVuSans-6e\" x=\"181.103516\"/>\n     <use xlink:href=\"#DejaVuSans-67\" x=\"244.482422\"/>\n     <use xlink:href=\"#DejaVuSans-65\" x=\"307.958984\"/>\n    </g>\n   </g>\n   <g id=\"legend_1\">\n    <g id=\"patch_5\">\n     <path d=\"M 274.588125 59.234375 \nL 343.538125 59.234375 \nQ 345.538125 59.234375 345.538125 57.234375 \nL 345.538125 14.2 \nQ 345.538125 12.2 343.538125 12.2 \nL 274.588125 12.2 \nQ 272.588125 12.2 272.588125 14.2 \nL 272.588125 57.234375 \nQ 272.588125 59.234375 274.588125 59.234375 \nz\n\" style=\"fill: #ffffff; opacity: 0.8; stroke: #cccccc; stroke-linejoin: miter\"/>\n    </g>\n    <g id=\"patch_6\">\n     <path d=\"M 276.588125 23.798437 \nL 296.588125 23.798437 \nL 296.588125 16.798437 \nL 276.588125 16.798437 \nz\n\" style=\"fill: #1f77b4\"/>\n    </g>\n    <g id=\"text_5\">\n     <!-- Apple -->\n     <g transform=\"translate(304.588125 23.798437)scale(0.1 -0.1)\">\n      <use xlink:href=\"#DejaVuSans-41\"/>\n      <use xlink:href=\"#DejaVuSans-70\" x=\"68.408203\"/>\n      <use xlink:href=\"#DejaVuSans-70\" x=\"131.884766\"/>\n      <use xlink:href=\"#DejaVuSans-6c\" x=\"195.361328\"/>\n      <use xlink:href=\"#DejaVuSans-65\" x=\"223.144531\"/>\n     </g>\n    </g>\n    <g id=\"patch_7\">\n     <path d=\"M 276.588125 38.476562 \nL 296.588125 38.476562 \nL 296.588125 31.476562 \nL 276.588125 31.476562 \nz\n\" style=\"fill: #ff7f0e\"/>\n    </g>\n    <g id=\"text_6\">\n     <!-- Mango -->\n     <g transform=\"translate(304.588125 38.476562)scale(0.1 -0.1)\">\n      <use xlink:href=\"#DejaVuSans-4d\"/>\n      <use xlink:href=\"#DejaVuSans-61\" x=\"86.279297\"/>\n      <use xlink:href=\"#DejaVuSans-6e\" x=\"147.558594\"/>\n      <use xlink:href=\"#DejaVuSans-67\" x=\"210.9375\"/>\n      <use xlink:href=\"#DejaVuSans-6f\" x=\"274.414062\"/>\n     </g>\n    </g>\n    <g id=\"patch_8\">\n     <path d=\"M 276.588125 53.154687 \nL 296.588125 53.154687 \nL 296.588125 46.154687 \nL 276.588125 46.154687 \nz\n\" style=\"fill: #2ca02c\"/>\n    </g>\n    <g id=\"text_7\">\n     <!-- Orange -->\n     <g transform=\"translate(304.588125 53.154687)scale(0.1 -0.1)\">\n      <use xlink:href=\"#DejaVuSans-4f\"/>\n      <use xlink:href=\"#DejaVuSans-72\" x=\"78.710938\"/>\n      <use xlink:href=\"#DejaVuSans-61\" x=\"119.824219\"/>\n      <use xlink:href=\"#DejaVuSans-6e\" x=\"181.103516\"/>\n      <use xlink:href=\"#DejaVuSans-67\" x=\"244.482422\"/>\n      <use xlink:href=\"#DejaVuSans-65\" x=\"307.958984\"/>\n     </g>\n    </g>\n   </g>\n  </g>\n </g>\n</svg>\n",
      "text/plain": [
       "<Figure size 432x432 with 1 Axes>"
      ]
     },
     "metadata": {},
     "output_type": "display_data"
    }
   ],
   "source": [
    "import pandas as pd\n",
    "dict_ = {'Fruits':['Apple', 'Mango', 'Orange'], \n",
    "         'Qty':[50, 30, 20]}\n",
    "\n",
    "df = pd.DataFrame(dict_,)\n",
    "df.set_index(df['Fruits'], inplace=True)\n",
    "df.plot(kind='pie', y='Qty', figsize=(6, 6))\n",
    "\n"
   ]
  },
  {
   "cell_type": "code",
   "execution_count": 6,
   "metadata": {},
   "outputs": [
    {
     "name": "stdout",
     "output_type": "stream",
     "text": [
      "b'10.1.2.1 - car [01/Mar/2022:13:05:05 +0900] \"GET /python HTTP/1.0\" 200 222\\r\\n10.1.1.9 - bike [01/Mar/2022:13:05:05 +0900] \"GET /python HTTP/1.0\" 200 222'\n"
     ]
    }
   ],
   "source": [
    "with open('log.txt', 'rb') as file:\n",
    "    image = file.read()\n",
    "    print(image)"
   ]
  }
 ],
 "metadata": {
  "kernelspec": {
   "display_name": "Python 3.10.5 64-bit",
   "language": "python",
   "name": "python3"
  },
  "language_info": {
   "codemirror_mode": {
    "name": "ipython",
    "version": 3
   },
   "file_extension": ".py",
   "mimetype": "text/x-python",
   "name": "python",
   "nbconvert_exporter": "python",
   "pygments_lexer": "ipython3",
   "version": "3.10.5"
  },
  "orig_nbformat": 4,
  "vscode": {
   "interpreter": {
    "hash": "8eede22598bfb2ec59ca93270f7144183cecbe045428b25fd92150a347eec21f"
   }
  }
 },
 "nbformat": 4,
 "nbformat_minor": 2
}
